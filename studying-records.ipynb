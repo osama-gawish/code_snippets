{
 "cells": [
  {
   "cell_type": "code",
   "execution_count": 1,
   "id": "94c86dd0",
   "metadata": {
    "_cell_guid": "b1076dfc-b9ad-4769-8c92-a6c4dae69d19",
    "_uuid": "8f2839f25d086af736a60e9eeb907d3b93b6e0e5",
    "execution": {
     "iopub.execute_input": "2023-12-30T05:42:47.277847Z",
     "iopub.status.busy": "2023-12-30T05:42:47.277295Z",
     "iopub.status.idle": "2023-12-30T05:42:49.936462Z",
     "shell.execute_reply": "2023-12-30T05:42:49.935347Z"
    },
    "papermill": {
     "duration": 2.670021,
     "end_time": "2023-12-30T05:42:49.939810",
     "exception": false,
     "start_time": "2023-12-30T05:42:47.269789",
     "status": "completed"
    },
    "tags": []
   },
   "outputs": [],
   "source": [
    "import pandas as pd\n",
    "import seaborn as sns\n",
    "import matplotlib.pyplot as plt"
   ]
  },
  {
   "cell_type": "markdown",
   "id": "b1542a2c",
   "metadata": {
    "papermill": {
     "duration": 0.005008,
     "end_time": "2023-12-30T05:42:49.951150",
     "exception": false,
     "start_time": "2023-12-30T05:42:49.946142",
     "status": "completed"
    },
    "tags": []
   },
   "source": [
    "From Dec23 to Feb24 there are 13 weeks.  \n",
    "six days each week means 78 days.  \n",
    "5 hours each day means 390 hours."
   ]
  },
  {
   "cell_type": "code",
   "execution_count": 2,
   "id": "a15f4d25",
   "metadata": {
    "execution": {
     "iopub.execute_input": "2023-12-30T05:42:49.963069Z",
     "iopub.status.busy": "2023-12-30T05:42:49.962477Z",
     "iopub.status.idle": "2023-12-30T05:42:49.972528Z",
     "shell.execute_reply": "2023-12-30T05:42:49.971335Z"
    },
    "papermill": {
     "duration": 0.018898,
     "end_time": "2023-12-30T05:42:49.974957",
     "exception": false,
     "start_time": "2023-12-30T05:42:49.956059",
     "status": "completed"
    },
    "tags": []
   },
   "outputs": [],
   "source": [
    "df = {\n",
    "    'date':  ['01/12', '02/12', '03/12', '04/12', '05/12', '06/12', '07/12', '08/12', '09/12', '10/12', '11/12', '12/12', '13/12', '14/12', '15/12', '16/12', '17/12', '18/12', '19/12', '20/12', '21/12', '22/12', '23/12', '24/12', '25/12', '26/12' , '27/12', '28/12', '29/12'],\n",
    "    'hours': [2.0    , 2.5    , 2.0    , 3.5    , 3.5    , 2.0    , 5.0    , 3.0    , 1.5    , 2.0    , 1.5    , 2.5    , 3.5    , 2      , 3.5    , 2.5    , 2      , 3      , 2.5    , 1      , 0      , 3      , 3.5    , 3.5    , 3.5    , 1.5     , 0      , 0      , 2      ],\n",
    "    'day':   ['fri'  , 'sat'  , 'sun'  , 'mon'  , 'tue'  , 'wed'  , 'thr'  , 'fri'  , 'sat'  , 'sun'  , 'mon'  , 'tue'  , 'wed'  , 'thr'  , 'fri'  , 'sat'  , 'sun'  , 'mon'  , 'tue'  , 'wed'  , 'thr'  , 'fri'  , 'sat'  , 'sun'  , 'mon'  , 'tue'   , 'wed'  , 'thr'  , 'fri'  ],\n",
    "    'week':  [1      , 1      , 1      , 1      , 1      , 1      , 1      , 2      , 2      , 2      , 2      , 2      , 2      , 2      , 3      , 3      , 3      , 3      , 3      , 3      , 3      , 4      , 4      , 4      , 4      , 4       , 4      , 4      , 5      ]\n",
    "}"
   ]
  },
  {
   "cell_type": "code",
   "execution_count": 3,
   "id": "62d76d4a",
   "metadata": {
    "execution": {
     "iopub.execute_input": "2023-12-30T05:42:49.986724Z",
     "iopub.status.busy": "2023-12-30T05:42:49.986331Z",
     "iopub.status.idle": "2023-12-30T05:42:50.024540Z",
     "shell.execute_reply": "2023-12-30T05:42:50.023278Z"
    },
    "papermill": {
     "duration": 0.047379,
     "end_time": "2023-12-30T05:42:50.027275",
     "exception": false,
     "start_time": "2023-12-30T05:42:49.979896",
     "status": "completed"
    },
    "tags": []
   },
   "outputs": [
    {
     "data": {
      "text/html": [
       "<div>\n",
       "<style scoped>\n",
       "    .dataframe tbody tr th:only-of-type {\n",
       "        vertical-align: middle;\n",
       "    }\n",
       "\n",
       "    .dataframe tbody tr th {\n",
       "        vertical-align: top;\n",
       "    }\n",
       "\n",
       "    .dataframe thead th {\n",
       "        text-align: right;\n",
       "    }\n",
       "</style>\n",
       "<table border=\"1\" class=\"dataframe\">\n",
       "  <thead>\n",
       "    <tr style=\"text-align: right;\">\n",
       "      <th></th>\n",
       "      <th>date</th>\n",
       "      <th>hours</th>\n",
       "      <th>day</th>\n",
       "      <th>week</th>\n",
       "    </tr>\n",
       "  </thead>\n",
       "  <tbody>\n",
       "    <tr>\n",
       "      <th>0</th>\n",
       "      <td>01/12</td>\n",
       "      <td>2.0</td>\n",
       "      <td>fri</td>\n",
       "      <td>1</td>\n",
       "    </tr>\n",
       "    <tr>\n",
       "      <th>1</th>\n",
       "      <td>02/12</td>\n",
       "      <td>2.5</td>\n",
       "      <td>sat</td>\n",
       "      <td>1</td>\n",
       "    </tr>\n",
       "    <tr>\n",
       "      <th>2</th>\n",
       "      <td>03/12</td>\n",
       "      <td>2.0</td>\n",
       "      <td>sun</td>\n",
       "      <td>1</td>\n",
       "    </tr>\n",
       "    <tr>\n",
       "      <th>3</th>\n",
       "      <td>04/12</td>\n",
       "      <td>3.5</td>\n",
       "      <td>mon</td>\n",
       "      <td>1</td>\n",
       "    </tr>\n",
       "    <tr>\n",
       "      <th>4</th>\n",
       "      <td>05/12</td>\n",
       "      <td>3.5</td>\n",
       "      <td>tue</td>\n",
       "      <td>1</td>\n",
       "    </tr>\n",
       "    <tr>\n",
       "      <th>5</th>\n",
       "      <td>06/12</td>\n",
       "      <td>2.0</td>\n",
       "      <td>wed</td>\n",
       "      <td>1</td>\n",
       "    </tr>\n",
       "    <tr>\n",
       "      <th>6</th>\n",
       "      <td>07/12</td>\n",
       "      <td>5.0</td>\n",
       "      <td>thr</td>\n",
       "      <td>1</td>\n",
       "    </tr>\n",
       "    <tr>\n",
       "      <th>7</th>\n",
       "      <td>08/12</td>\n",
       "      <td>3.0</td>\n",
       "      <td>fri</td>\n",
       "      <td>2</td>\n",
       "    </tr>\n",
       "    <tr>\n",
       "      <th>8</th>\n",
       "      <td>09/12</td>\n",
       "      <td>1.5</td>\n",
       "      <td>sat</td>\n",
       "      <td>2</td>\n",
       "    </tr>\n",
       "    <tr>\n",
       "      <th>9</th>\n",
       "      <td>10/12</td>\n",
       "      <td>2.0</td>\n",
       "      <td>sun</td>\n",
       "      <td>2</td>\n",
       "    </tr>\n",
       "    <tr>\n",
       "      <th>10</th>\n",
       "      <td>11/12</td>\n",
       "      <td>1.5</td>\n",
       "      <td>mon</td>\n",
       "      <td>2</td>\n",
       "    </tr>\n",
       "    <tr>\n",
       "      <th>11</th>\n",
       "      <td>12/12</td>\n",
       "      <td>2.5</td>\n",
       "      <td>tue</td>\n",
       "      <td>2</td>\n",
       "    </tr>\n",
       "    <tr>\n",
       "      <th>12</th>\n",
       "      <td>13/12</td>\n",
       "      <td>3.5</td>\n",
       "      <td>wed</td>\n",
       "      <td>2</td>\n",
       "    </tr>\n",
       "    <tr>\n",
       "      <th>13</th>\n",
       "      <td>14/12</td>\n",
       "      <td>2.0</td>\n",
       "      <td>thr</td>\n",
       "      <td>2</td>\n",
       "    </tr>\n",
       "    <tr>\n",
       "      <th>14</th>\n",
       "      <td>15/12</td>\n",
       "      <td>3.5</td>\n",
       "      <td>fri</td>\n",
       "      <td>3</td>\n",
       "    </tr>\n",
       "    <tr>\n",
       "      <th>15</th>\n",
       "      <td>16/12</td>\n",
       "      <td>2.5</td>\n",
       "      <td>sat</td>\n",
       "      <td>3</td>\n",
       "    </tr>\n",
       "    <tr>\n",
       "      <th>16</th>\n",
       "      <td>17/12</td>\n",
       "      <td>2.0</td>\n",
       "      <td>sun</td>\n",
       "      <td>3</td>\n",
       "    </tr>\n",
       "    <tr>\n",
       "      <th>17</th>\n",
       "      <td>18/12</td>\n",
       "      <td>3.0</td>\n",
       "      <td>mon</td>\n",
       "      <td>3</td>\n",
       "    </tr>\n",
       "    <tr>\n",
       "      <th>18</th>\n",
       "      <td>19/12</td>\n",
       "      <td>2.5</td>\n",
       "      <td>tue</td>\n",
       "      <td>3</td>\n",
       "    </tr>\n",
       "    <tr>\n",
       "      <th>19</th>\n",
       "      <td>20/12</td>\n",
       "      <td>1.0</td>\n",
       "      <td>wed</td>\n",
       "      <td>3</td>\n",
       "    </tr>\n",
       "    <tr>\n",
       "      <th>20</th>\n",
       "      <td>21/12</td>\n",
       "      <td>0.0</td>\n",
       "      <td>thr</td>\n",
       "      <td>3</td>\n",
       "    </tr>\n",
       "    <tr>\n",
       "      <th>21</th>\n",
       "      <td>22/12</td>\n",
       "      <td>3.0</td>\n",
       "      <td>fri</td>\n",
       "      <td>4</td>\n",
       "    </tr>\n",
       "    <tr>\n",
       "      <th>22</th>\n",
       "      <td>23/12</td>\n",
       "      <td>3.5</td>\n",
       "      <td>sat</td>\n",
       "      <td>4</td>\n",
       "    </tr>\n",
       "    <tr>\n",
       "      <th>23</th>\n",
       "      <td>24/12</td>\n",
       "      <td>3.5</td>\n",
       "      <td>sun</td>\n",
       "      <td>4</td>\n",
       "    </tr>\n",
       "    <tr>\n",
       "      <th>24</th>\n",
       "      <td>25/12</td>\n",
       "      <td>3.5</td>\n",
       "      <td>mon</td>\n",
       "      <td>4</td>\n",
       "    </tr>\n",
       "    <tr>\n",
       "      <th>25</th>\n",
       "      <td>26/12</td>\n",
       "      <td>1.5</td>\n",
       "      <td>tue</td>\n",
       "      <td>4</td>\n",
       "    </tr>\n",
       "    <tr>\n",
       "      <th>26</th>\n",
       "      <td>27/12</td>\n",
       "      <td>0.0</td>\n",
       "      <td>wed</td>\n",
       "      <td>4</td>\n",
       "    </tr>\n",
       "    <tr>\n",
       "      <th>27</th>\n",
       "      <td>28/12</td>\n",
       "      <td>0.0</td>\n",
       "      <td>thr</td>\n",
       "      <td>4</td>\n",
       "    </tr>\n",
       "    <tr>\n",
       "      <th>28</th>\n",
       "      <td>29/12</td>\n",
       "      <td>2.0</td>\n",
       "      <td>fri</td>\n",
       "      <td>5</td>\n",
       "    </tr>\n",
       "  </tbody>\n",
       "</table>\n",
       "</div>"
      ],
      "text/plain": [
       "     date  hours  day  week\n",
       "0   01/12    2.0  fri     1\n",
       "1   02/12    2.5  sat     1\n",
       "2   03/12    2.0  sun     1\n",
       "3   04/12    3.5  mon     1\n",
       "4   05/12    3.5  tue     1\n",
       "5   06/12    2.0  wed     1\n",
       "6   07/12    5.0  thr     1\n",
       "7   08/12    3.0  fri     2\n",
       "8   09/12    1.5  sat     2\n",
       "9   10/12    2.0  sun     2\n",
       "10  11/12    1.5  mon     2\n",
       "11  12/12    2.5  tue     2\n",
       "12  13/12    3.5  wed     2\n",
       "13  14/12    2.0  thr     2\n",
       "14  15/12    3.5  fri     3\n",
       "15  16/12    2.5  sat     3\n",
       "16  17/12    2.0  sun     3\n",
       "17  18/12    3.0  mon     3\n",
       "18  19/12    2.5  tue     3\n",
       "19  20/12    1.0  wed     3\n",
       "20  21/12    0.0  thr     3\n",
       "21  22/12    3.0  fri     4\n",
       "22  23/12    3.5  sat     4\n",
       "23  24/12    3.5  sun     4\n",
       "24  25/12    3.5  mon     4\n",
       "25  26/12    1.5  tue     4\n",
       "26  27/12    0.0  wed     4\n",
       "27  28/12    0.0  thr     4\n",
       "28  29/12    2.0  fri     5"
      ]
     },
     "execution_count": 3,
     "metadata": {},
     "output_type": "execute_result"
    }
   ],
   "source": [
    "df = pd.DataFrame(df)\n",
    "df"
   ]
  },
  {
   "cell_type": "code",
   "execution_count": 4,
   "id": "60a2e3e7",
   "metadata": {
    "execution": {
     "iopub.execute_input": "2023-12-30T05:42:50.040158Z",
     "iopub.status.busy": "2023-12-30T05:42:50.039741Z",
     "iopub.status.idle": "2023-12-30T05:42:50.051769Z",
     "shell.execute_reply": "2023-12-30T05:42:50.050084Z"
    },
    "papermill": {
     "duration": 0.021482,
     "end_time": "2023-12-30T05:42:50.054274",
     "exception": false,
     "start_time": "2023-12-30T05:42:50.032792",
     "status": "completed"
    },
    "tags": []
   },
   "outputs": [
    {
     "name": "stdout",
     "output_type": "stream",
     "text": [
      "2.3448275862068964\n"
     ]
    },
    {
     "data": {
      "text/plain": [
       "68.0"
      ]
     },
     "execution_count": 4,
     "metadata": {},
     "output_type": "execute_result"
    }
   ],
   "source": [
    "print(df['hours'].mean())\n",
    "df['hours'].sum()"
   ]
  },
  {
   "cell_type": "code",
   "execution_count": 5,
   "id": "364d0e34",
   "metadata": {
    "execution": {
     "iopub.execute_input": "2023-12-30T05:42:50.067703Z",
     "iopub.status.busy": "2023-12-30T05:42:50.067286Z",
     "iopub.status.idle": "2023-12-30T05:42:50.100986Z",
     "shell.execute_reply": "2023-12-30T05:42:50.099867Z"
    },
    "papermill": {
     "duration": 0.043555,
     "end_time": "2023-12-30T05:42:50.103411",
     "exception": false,
     "start_time": "2023-12-30T05:42:50.059856",
     "status": "completed"
    },
    "tags": []
   },
   "outputs": [
    {
     "data": {
      "text/html": [
       "<div>\n",
       "<style scoped>\n",
       "    .dataframe tbody tr th:only-of-type {\n",
       "        vertical-align: middle;\n",
       "    }\n",
       "\n",
       "    .dataframe tbody tr th {\n",
       "        vertical-align: top;\n",
       "    }\n",
       "\n",
       "    .dataframe thead tr th {\n",
       "        text-align: left;\n",
       "    }\n",
       "\n",
       "    .dataframe thead tr:last-of-type th {\n",
       "        text-align: right;\n",
       "    }\n",
       "</style>\n",
       "<table border=\"1\" class=\"dataframe\">\n",
       "  <thead>\n",
       "    <tr>\n",
       "      <th></th>\n",
       "      <th colspan=\"2\" halign=\"left\">hours</th>\n",
       "    </tr>\n",
       "    <tr>\n",
       "      <th></th>\n",
       "      <th>sum</th>\n",
       "      <th>mean</th>\n",
       "    </tr>\n",
       "    <tr>\n",
       "      <th>week</th>\n",
       "      <th></th>\n",
       "      <th></th>\n",
       "    </tr>\n",
       "  </thead>\n",
       "  <tbody>\n",
       "    <tr>\n",
       "      <th>1</th>\n",
       "      <td>20.5</td>\n",
       "      <td>2.928571</td>\n",
       "    </tr>\n",
       "    <tr>\n",
       "      <th>2</th>\n",
       "      <td>16.0</td>\n",
       "      <td>2.285714</td>\n",
       "    </tr>\n",
       "    <tr>\n",
       "      <th>3</th>\n",
       "      <td>14.5</td>\n",
       "      <td>2.071429</td>\n",
       "    </tr>\n",
       "    <tr>\n",
       "      <th>4</th>\n",
       "      <td>15.0</td>\n",
       "      <td>2.142857</td>\n",
       "    </tr>\n",
       "    <tr>\n",
       "      <th>5</th>\n",
       "      <td>2.0</td>\n",
       "      <td>2.000000</td>\n",
       "    </tr>\n",
       "  </tbody>\n",
       "</table>\n",
       "</div>"
      ],
      "text/plain": [
       "     hours          \n",
       "       sum      mean\n",
       "week                \n",
       "1     20.5  2.928571\n",
       "2     16.0  2.285714\n",
       "3     14.5  2.071429\n",
       "4     15.0  2.142857\n",
       "5      2.0  2.000000"
      ]
     },
     "execution_count": 5,
     "metadata": {},
     "output_type": "execute_result"
    }
   ],
   "source": [
    "df.groupby('week').agg({'hours': ['sum','mean']})"
   ]
  },
  {
   "cell_type": "code",
   "execution_count": 6,
   "id": "e865f580",
   "metadata": {
    "execution": {
     "iopub.execute_input": "2023-12-30T05:42:50.116971Z",
     "iopub.status.busy": "2023-12-30T05:42:50.116576Z",
     "iopub.status.idle": "2023-12-30T05:42:50.130551Z",
     "shell.execute_reply": "2023-12-30T05:42:50.129321Z"
    },
    "papermill": {
     "duration": 0.024084,
     "end_time": "2023-12-30T05:42:50.133377",
     "exception": false,
     "start_time": "2023-12-30T05:42:50.109293",
     "status": "completed"
    },
    "tags": []
   },
   "outputs": [
    {
     "data": {
      "text/html": [
       "<div>\n",
       "<style scoped>\n",
       "    .dataframe tbody tr th:only-of-type {\n",
       "        vertical-align: middle;\n",
       "    }\n",
       "\n",
       "    .dataframe tbody tr th {\n",
       "        vertical-align: top;\n",
       "    }\n",
       "\n",
       "    .dataframe thead th {\n",
       "        text-align: right;\n",
       "    }\n",
       "</style>\n",
       "<table border=\"1\" class=\"dataframe\">\n",
       "  <thead>\n",
       "    <tr style=\"text-align: right;\">\n",
       "      <th></th>\n",
       "      <th>hours</th>\n",
       "    </tr>\n",
       "    <tr>\n",
       "      <th>day</th>\n",
       "      <th></th>\n",
       "    </tr>\n",
       "  </thead>\n",
       "  <tbody>\n",
       "    <tr>\n",
       "      <th>fri</th>\n",
       "      <td>2.700</td>\n",
       "    </tr>\n",
       "    <tr>\n",
       "      <th>sat</th>\n",
       "      <td>2.500</td>\n",
       "    </tr>\n",
       "    <tr>\n",
       "      <th>sun</th>\n",
       "      <td>2.375</td>\n",
       "    </tr>\n",
       "    <tr>\n",
       "      <th>mon</th>\n",
       "      <td>2.875</td>\n",
       "    </tr>\n",
       "    <tr>\n",
       "      <th>tue</th>\n",
       "      <td>2.500</td>\n",
       "    </tr>\n",
       "    <tr>\n",
       "      <th>wed</th>\n",
       "      <td>1.625</td>\n",
       "    </tr>\n",
       "    <tr>\n",
       "      <th>thr</th>\n",
       "      <td>1.750</td>\n",
       "    </tr>\n",
       "  </tbody>\n",
       "</table>\n",
       "</div>"
      ],
      "text/plain": [
       "     hours\n",
       "day       \n",
       "fri  2.700\n",
       "sat  2.500\n",
       "sun  2.375\n",
       "mon  2.875\n",
       "tue  2.500\n",
       "wed  1.625\n",
       "thr  1.750"
      ]
     },
     "execution_count": 6,
     "metadata": {},
     "output_type": "execute_result"
    }
   ],
   "source": [
    "df.groupby('day', sort = False).agg({'hours': 'mean'})"
   ]
  },
  {
   "cell_type": "code",
   "execution_count": 7,
   "id": "a37dca69",
   "metadata": {
    "execution": {
     "iopub.execute_input": "2023-12-30T05:42:50.148063Z",
     "iopub.status.busy": "2023-12-30T05:42:50.147660Z",
     "iopub.status.idle": "2023-12-30T05:42:50.858274Z",
     "shell.execute_reply": "2023-12-30T05:42:50.856918Z"
    },
    "papermill": {
     "duration": 0.721582,
     "end_time": "2023-12-30T05:42:50.861183",
     "exception": false,
     "start_time": "2023-12-30T05:42:50.139601",
     "status": "completed"
    },
    "tags": []
   },
   "outputs": [
    {
     "data": {
      "text/plain": [
       "<Axes: xlabel='date', ylabel='hours'>"
      ]
     },
     "execution_count": 7,
     "metadata": {},
     "output_type": "execute_result"
    },
    {
     "data": {
      "image/png": "[encoded data removed]",
      "text/plain": [
       "<Figure size 2000x600 with 1 Axes>"
      ]
     },
     "metadata": {},
     "output_type": "display_data"
    }
   ],
   "source": [
    "plt.figure(figsize=(20,6))\n",
    "sns.barplot(x = df['date'], y = df['hours'])"
   ]
  },
  {
   "cell_type": "code",
   "execution_count": 8,
   "id": "c069ca85",
   "metadata": {
    "execution": {
     "iopub.execute_input": "2023-12-30T05:42:50.876739Z",
     "iopub.status.busy": "2023-12-30T05:42:50.876350Z",
     "iopub.status.idle": "2023-12-30T05:42:51.112562Z",
     "shell.execute_reply": "2023-12-30T05:42:51.110615Z"
    },
    "papermill": {
     "duration": 0.249027,
     "end_time": "2023-12-30T05:42:51.117021",
     "exception": false,
     "start_time": "2023-12-30T05:42:50.867994",
     "status": "completed"
    },
    "tags": []
   },
   "outputs": [
    {
     "data": {
      "image/png": "[encoded data removed]",
      "text/plain": [
       "<Figure size 640x480 with 1 Axes>"
      ]
     },
     "metadata": {},
     "output_type": "display_data"
    }
   ],
   "source": [
    "completed = df['hours'].sum()\n",
    "remaining = 390 - completed\n",
    "\n",
    "# Seaborn style settings (optional but can enhance aesthetics)\n",
    "sns.set(style=\"whitegrid\")\n",
    "\n",
    "# Data for the donut chart\n",
    "sizes = [completed, remaining]\n",
    "labels = ['Completed', 'Remaining']\n",
    "colors = ['green', 'red']  # Specify colors for completed and remaining portions\n",
    "\n",
    "# Create a donut chart using Matplotlib's plt.pie()\n",
    "plt.pie(sizes, labels=labels, autopct=lambda p: '{:.0f}'.format(p * sum(sizes) / 100), startangle=90, wedgeprops=dict(width=0.6), colors=colors)\n",
    "\n",
    "# Draw a circle in the center to create the hole\n",
    "centre_circle = plt.Circle((0, 0), 0.3, color='white', fc='white', linewidth=1.25)\n",
    "fig = plt.gcf()\n",
    "fig.gca().add_artist(centre_circle)\n",
    "\n",
    "# Equal aspect ratio ensures that pie is drawn as a circle.\n",
    "plt.axis('equal')\n",
    "\n",
    "# Title to represent the task\n",
    "plt.title('Progress')\n",
    "\n",
    "# Show the plot\n",
    "plt.show()"
   ]
  },
  {
   "cell_type": "code",
   "execution_count": 9,
   "id": "b180e804",
   "metadata": {
    "execution": {
     "iopub.execute_input": "2023-12-30T05:42:51.150518Z",
     "iopub.status.busy": "2023-12-30T05:42:51.148752Z",
     "iopub.status.idle": "2023-12-30T05:42:51.157809Z",
     "shell.execute_reply": "2023-12-30T05:42:51.156591Z"
    },
    "papermill": {
     "duration": 0.028124,
     "end_time": "2023-12-30T05:42:51.160166",
     "exception": false,
     "start_time": "2023-12-30T05:42:51.132042",
     "status": "completed"
    },
    "tags": []
   },
   "outputs": [],
   "source": [
    "df['cumulative_hours'] = df['hours'].expanding().mean()"
   ]
  },
  {
   "cell_type": "code",
   "execution_count": 10,
   "id": "43e72f3e",
   "metadata": {
    "execution": {
     "iopub.execute_input": "2023-12-30T05:42:51.176785Z",
     "iopub.status.busy": "2023-12-30T05:42:51.175799Z",
     "iopub.status.idle": "2023-12-30T05:42:51.863949Z",
     "shell.execute_reply": "2023-12-30T05:42:51.862785Z"
    },
    "papermill": {
     "duration": 0.699113,
     "end_time": "2023-12-30T05:42:51.866430",
     "exception": false,
     "start_time": "2023-12-30T05:42:51.167317",
     "status": "completed"
    },
    "tags": []
   },
   "outputs": [
    {
     "data": {
      "image/png": "[encoded data removed]",
      "text/plain": [
       "<Figure size 1000x600 with 1 Axes>"
      ]
     },
     "metadata": {},
     "output_type": "display_data"
    }
   ],
   "source": [
    "# Plotting the cumulative_hours column\n",
    "plt.figure(figsize=(10, 6))\n",
    "plt.plot(df['date'], df['cumulative_hours'], marker='o', linestyle='-', color='b')\n",
    "plt.title('Cumulative Hours Over Days')\n",
    "plt.xlabel('Date')\n",
    "plt.ylabel('Cumulative Hours')\n",
    "plt.xticks(rotation=45)\n",
    "plt.grid(True)\n",
    "plt.show()"
   ]
  },
  {
   "cell_type": "code",
   "execution_count": null,
   "id": "e9ba81e7",
   "metadata": {
    "papermill": {
     "duration": 0.009121,
     "end_time": "2023-12-30T05:42:51.886415",
     "exception": false,
     "start_time": "2023-12-30T05:42:51.877294",
     "status": "completed"
    },
    "tags": []
   },
   "outputs": [],
   "source": []
  }
 ],
 "metadata": {
  "kaggle": {
   "accelerator": "none",
   "dataSources": [],
   "dockerImageVersionId": 30615,
   "isGpuEnabled": false,
   "isInternetEnabled": true,
   "language": "python",
   "sourceType": "notebook"
  },
  "kernelspec": {
   "display_name": "Python 3",
   "language": "python",
   "name": "python3"
  },
  "language_info": {
   "codemirror_mode": {
    "name": "ipython",
    "version": 3
   },
   "file_extension": ".py",
   "mimetype": "text/x-python",
   "name": "python",
   "nbconvert_exporter": "python",
   "pygments_lexer": "ipython3",
   "version": "3.10.12"
  },
  "papermill": {
   "default_parameters": {},
   "duration": 9.276642,
   "end_time": "2023-12-30T05:42:52.518755",
   "environment_variables": {},
   "exception": null,
   "input_path": "__notebook__.ipynb",
   "output_path": "__notebook__.ipynb",
   "parameters": {},
   "start_time": "2023-12-30T05:42:43.242113",
   "version": "2.4.0"
  }
 },
 "nbformat": 4,
 "nbformat_minor": 5
}
