{
 "cells": [
  {
   "cell_type": "code",
   "execution_count": 1,
   "id": "d86ba255",
   "metadata": {
    "_cell_guid": "b1076dfc-b9ad-4769-8c92-a6c4dae69d19",
    "_uuid": "8f2839f25d086af736a60e9eeb907d3b93b6e0e5",
    "execution": {
     "iopub.execute_input": "2023-12-25T12:49:56.607577Z",
     "iopub.status.busy": "2023-12-25T12:49:56.607016Z",
     "iopub.status.idle": "2023-12-25T12:49:58.858505Z",
     "shell.execute_reply": "2023-12-25T12:49:58.857180Z"
    },
    "papermill": {
     "duration": 2.261471,
     "end_time": "2023-12-25T12:49:58.861378",
     "exception": false,
     "start_time": "2023-12-25T12:49:56.599907",
     "status": "completed"
    },
    "tags": []
   },
   "outputs": [],
   "source": [
    "import pandas as pd\n",
    "import seaborn as sns\n",
    "import matplotlib.pyplot as plt"
   ]
  },
  {
   "cell_type": "markdown",
   "id": "6dc00e78",
   "metadata": {
    "papermill": {
     "duration": 0.004429,
     "end_time": "2023-12-25T12:49:58.871019",
     "exception": false,
     "start_time": "2023-12-25T12:49:58.866590",
     "status": "completed"
    },
    "tags": []
   },
   "source": [
    "From Dec23 to Feb24 there are 13 weeks.  \n",
    "six days each week means 78 days.  \n",
    "5 hours each day means 390 hours."
   ]
  },
  {
   "cell_type": "code",
   "execution_count": 2,
   "id": "ea8aa61f",
   "metadata": {
    "execution": {
     "iopub.execute_input": "2023-12-25T12:49:58.882682Z",
     "iopub.status.busy": "2023-12-25T12:49:58.881743Z",
     "iopub.status.idle": "2023-12-25T12:49:58.891065Z",
     "shell.execute_reply": "2023-12-25T12:49:58.889831Z"
    },
    "papermill": {
     "duration": 0.01788,
     "end_time": "2023-12-25T12:49:58.893588",
     "exception": false,
     "start_time": "2023-12-25T12:49:58.875708",
     "status": "completed"
    },
    "tags": []
   },
   "outputs": [],
   "source": [
    "df = {\n",
    "    'date':  ['01/12', '02/12', '03/12', '04/12', '05/12', '06/12', '07/12', '08/12', '09/12', '10/12', '11/12', '12/12', '13/12', '14/12', '15/12', '16/12', '17/12', '18/12', '19/12', '20/12', '21/12', '22/12', '23/12', '24/12'],\n",
    "    'hours': [2.0    , 2.5    , 2.0    , 3.5    , 3.5    , 2.0    , 5.0    , 3.0    , 1.5    , 2.0    , 1.5    , 2.5    , 3.5    , 2      , 3.5    , 2.5    , 2      , 3      , 2.5    , 1      , 0      , 3      , 3.5      , 3.5  ],\n",
    "    'day':   ['fri'  , 'sat'  , 'sun'  , 'mon'  , 'tue'  , 'wed'  , 'thr'  , 'fri'  , 'sat'  , 'sun'  , 'mon'  , 'tue'  , 'wed'  , 'thr'  , 'fri'  , 'sat'  , 'sun'  , 'mon'  , 'tue'  , 'wed'  , 'thr'  , 'fri'  , 'sat'  , 'sun'  ],\n",
    "    'week':  [1      , 1      , 1      , 1      , 1      , 1      , 1      , 2      , 2      , 2      , 2      , 2      , 2      , 2      , 3      , 3      , 3      , 3      , 3      , 3      , 3      , 4      , 4      , 4      ]\n",
    "}"
   ]
  },
  {
   "cell_type": "code",
   "execution_count": 3,
   "id": "425608a3",
   "metadata": {
    "execution": {
     "iopub.execute_input": "2023-12-25T12:49:58.905014Z",
     "iopub.status.busy": "2023-12-25T12:49:58.904560Z",
     "iopub.status.idle": "2023-12-25T12:49:58.936611Z",
     "shell.execute_reply": "2023-12-25T12:49:58.935476Z"
    },
    "papermill": {
     "duration": 0.040875,
     "end_time": "2023-12-25T12:49:58.939362",
     "exception": false,
     "start_time": "2023-12-25T12:49:58.898487",
     "status": "completed"
    },
    "tags": []
   },
   "outputs": [
    {
     "data": {
      "text/html": [
       "<div>\n",
       "<style scoped>\n",
       "    .dataframe tbody tr th:only-of-type {\n",
       "        vertical-align: middle;\n",
       "    }\n",
       "\n",
       "    .dataframe tbody tr th {\n",
       "        vertical-align: top;\n",
       "    }\n",
       "\n",
       "    .dataframe thead th {\n",
       "        text-align: right;\n",
       "    }\n",
       "</style>\n",
       "<table border=\"1\" class=\"dataframe\">\n",
       "  <thead>\n",
       "    <tr style=\"text-align: right;\">\n",
       "      <th></th>\n",
       "      <th>date</th>\n",
       "      <th>hours</th>\n",
       "      <th>day</th>\n",
       "      <th>week</th>\n",
       "    </tr>\n",
       "  </thead>\n",
       "  <tbody>\n",
       "    <tr>\n",
       "      <th>0</th>\n",
       "      <td>01/12</td>\n",
       "      <td>2.0</td>\n",
       "      <td>fri</td>\n",
       "      <td>1</td>\n",
       "    </tr>\n",
       "    <tr>\n",
       "      <th>1</th>\n",
       "      <td>02/12</td>\n",
       "      <td>2.5</td>\n",
       "      <td>sat</td>\n",
       "      <td>1</td>\n",
       "    </tr>\n",
       "    <tr>\n",
       "      <th>2</th>\n",
       "      <td>03/12</td>\n",
       "      <td>2.0</td>\n",
       "      <td>sun</td>\n",
       "      <td>1</td>\n",
       "    </tr>\n",
       "    <tr>\n",
       "      <th>3</th>\n",
       "      <td>04/12</td>\n",
       "      <td>3.5</td>\n",
       "      <td>mon</td>\n",
       "      <td>1</td>\n",
       "    </tr>\n",
       "    <tr>\n",
       "      <th>4</th>\n",
       "      <td>05/12</td>\n",
       "      <td>3.5</td>\n",
       "      <td>tue</td>\n",
       "      <td>1</td>\n",
       "    </tr>\n",
       "    <tr>\n",
       "      <th>5</th>\n",
       "      <td>06/12</td>\n",
       "      <td>2.0</td>\n",
       "      <td>wed</td>\n",
       "      <td>1</td>\n",
       "    </tr>\n",
       "    <tr>\n",
       "      <th>6</th>\n",
       "      <td>07/12</td>\n",
       "      <td>5.0</td>\n",
       "      <td>thr</td>\n",
       "      <td>1</td>\n",
       "    </tr>\n",
       "    <tr>\n",
       "      <th>7</th>\n",
       "      <td>08/12</td>\n",
       "      <td>3.0</td>\n",
       "      <td>fri</td>\n",
       "      <td>2</td>\n",
       "    </tr>\n",
       "    <tr>\n",
       "      <th>8</th>\n",
       "      <td>09/12</td>\n",
       "      <td>1.5</td>\n",
       "      <td>sat</td>\n",
       "      <td>2</td>\n",
       "    </tr>\n",
       "    <tr>\n",
       "      <th>9</th>\n",
       "      <td>10/12</td>\n",
       "      <td>2.0</td>\n",
       "      <td>sun</td>\n",
       "      <td>2</td>\n",
       "    </tr>\n",
       "    <tr>\n",
       "      <th>10</th>\n",
       "      <td>11/12</td>\n",
       "      <td>1.5</td>\n",
       "      <td>mon</td>\n",
       "      <td>2</td>\n",
       "    </tr>\n",
       "    <tr>\n",
       "      <th>11</th>\n",
       "      <td>12/12</td>\n",
       "      <td>2.5</td>\n",
       "      <td>tue</td>\n",
       "      <td>2</td>\n",
       "    </tr>\n",
       "    <tr>\n",
       "      <th>12</th>\n",
       "      <td>13/12</td>\n",
       "      <td>3.5</td>\n",
       "      <td>wed</td>\n",
       "      <td>2</td>\n",
       "    </tr>\n",
       "    <tr>\n",
       "      <th>13</th>\n",
       "      <td>14/12</td>\n",
       "      <td>2.0</td>\n",
       "      <td>thr</td>\n",
       "      <td>2</td>\n",
       "    </tr>\n",
       "    <tr>\n",
       "      <th>14</th>\n",
       "      <td>15/12</td>\n",
       "      <td>3.5</td>\n",
       "      <td>fri</td>\n",
       "      <td>3</td>\n",
       "    </tr>\n",
       "    <tr>\n",
       "      <th>15</th>\n",
       "      <td>16/12</td>\n",
       "      <td>2.5</td>\n",
       "      <td>sat</td>\n",
       "      <td>3</td>\n",
       "    </tr>\n",
       "    <tr>\n",
       "      <th>16</th>\n",
       "      <td>17/12</td>\n",
       "      <td>2.0</td>\n",
       "      <td>sun</td>\n",
       "      <td>3</td>\n",
       "    </tr>\n",
       "    <tr>\n",
       "      <th>17</th>\n",
       "      <td>18/12</td>\n",
       "      <td>3.0</td>\n",
       "      <td>mon</td>\n",
       "      <td>3</td>\n",
       "    </tr>\n",
       "    <tr>\n",
       "      <th>18</th>\n",
       "      <td>19/12</td>\n",
       "      <td>2.5</td>\n",
       "      <td>tue</td>\n",
       "      <td>3</td>\n",
       "    </tr>\n",
       "    <tr>\n",
       "      <th>19</th>\n",
       "      <td>20/12</td>\n",
       "      <td>1.0</td>\n",
       "      <td>wed</td>\n",
       "      <td>3</td>\n",
       "    </tr>\n",
       "    <tr>\n",
       "      <th>20</th>\n",
       "      <td>21/12</td>\n",
       "      <td>0.0</td>\n",
       "      <td>thr</td>\n",
       "      <td>3</td>\n",
       "    </tr>\n",
       "    <tr>\n",
       "      <th>21</th>\n",
       "      <td>22/12</td>\n",
       "      <td>3.0</td>\n",
       "      <td>fri</td>\n",
       "      <td>4</td>\n",
       "    </tr>\n",
       "    <tr>\n",
       "      <th>22</th>\n",
       "      <td>23/12</td>\n",
       "      <td>3.5</td>\n",
       "      <td>sat</td>\n",
       "      <td>4</td>\n",
       "    </tr>\n",
       "    <tr>\n",
       "      <th>23</th>\n",
       "      <td>24/12</td>\n",
       "      <td>3.5</td>\n",
       "      <td>sun</td>\n",
       "      <td>4</td>\n",
       "    </tr>\n",
       "  </tbody>\n",
       "</table>\n",
       "</div>"
      ],
      "text/plain": [
       "     date  hours  day  week\n",
       "0   01/12    2.0  fri     1\n",
       "1   02/12    2.5  sat     1\n",
       "2   03/12    2.0  sun     1\n",
       "3   04/12    3.5  mon     1\n",
       "4   05/12    3.5  tue     1\n",
       "5   06/12    2.0  wed     1\n",
       "6   07/12    5.0  thr     1\n",
       "7   08/12    3.0  fri     2\n",
       "8   09/12    1.5  sat     2\n",
       "9   10/12    2.0  sun     2\n",
       "10  11/12    1.5  mon     2\n",
       "11  12/12    2.5  tue     2\n",
       "12  13/12    3.5  wed     2\n",
       "13  14/12    2.0  thr     2\n",
       "14  15/12    3.5  fri     3\n",
       "15  16/12    2.5  sat     3\n",
       "16  17/12    2.0  sun     3\n",
       "17  18/12    3.0  mon     3\n",
       "18  19/12    2.5  tue     3\n",
       "19  20/12    1.0  wed     3\n",
       "20  21/12    0.0  thr     3\n",
       "21  22/12    3.0  fri     4\n",
       "22  23/12    3.5  sat     4\n",
       "23  24/12    3.5  sun     4"
      ]
     },
     "execution_count": 3,
     "metadata": {},
     "output_type": "execute_result"
    }
   ],
   "source": [
    "df = pd.DataFrame(df)\n",
    "df"
   ]
  },
  {
   "cell_type": "code",
   "execution_count": 4,
   "id": "26bc0aac",
   "metadata": {
    "execution": {
     "iopub.execute_input": "2023-12-25T12:49:58.951940Z",
     "iopub.status.busy": "2023-12-25T12:49:58.951514Z",
     "iopub.status.idle": "2023-12-25T12:49:58.963089Z",
     "shell.execute_reply": "2023-12-25T12:49:58.961456Z"
    },
    "papermill": {
     "duration": 0.021088,
     "end_time": "2023-12-25T12:49:58.965810",
     "exception": false,
     "start_time": "2023-12-25T12:49:58.944722",
     "status": "completed"
    },
    "tags": []
   },
   "outputs": [
    {
     "name": "stdout",
     "output_type": "stream",
     "text": [
      "2.5416666666666665\n"
     ]
    },
    {
     "data": {
      "text/plain": [
       "61.0"
      ]
     },
     "execution_count": 4,
     "metadata": {},
     "output_type": "execute_result"
    }
   ],
   "source": [
    "print(df['hours'].mean())\n",
    "df['hours'].sum()"
   ]
  },
  {
   "cell_type": "code",
   "execution_count": 5,
   "id": "8343f85d",
   "metadata": {
    "execution": {
     "iopub.execute_input": "2023-12-25T12:49:58.978718Z",
     "iopub.status.busy": "2023-12-25T12:49:58.978322Z",
     "iopub.status.idle": "2023-12-25T12:49:59.010616Z",
     "shell.execute_reply": "2023-12-25T12:49:59.009629Z"
    },
    "papermill": {
     "duration": 0.041838,
     "end_time": "2023-12-25T12:49:59.013175",
     "exception": false,
     "start_time": "2023-12-25T12:49:58.971337",
     "status": "completed"
    },
    "tags": []
   },
   "outputs": [
    {
     "data": {
      "text/html": [
       "<div>\n",
       "<style scoped>\n",
       "    .dataframe tbody tr th:only-of-type {\n",
       "        vertical-align: middle;\n",
       "    }\n",
       "\n",
       "    .dataframe tbody tr th {\n",
       "        vertical-align: top;\n",
       "    }\n",
       "\n",
       "    .dataframe thead tr th {\n",
       "        text-align: left;\n",
       "    }\n",
       "\n",
       "    .dataframe thead tr:last-of-type th {\n",
       "        text-align: right;\n",
       "    }\n",
       "</style>\n",
       "<table border=\"1\" class=\"dataframe\">\n",
       "  <thead>\n",
       "    <tr>\n",
       "      <th></th>\n",
       "      <th colspan=\"2\" halign=\"left\">hours</th>\n",
       "    </tr>\n",
       "    <tr>\n",
       "      <th></th>\n",
       "      <th>sum</th>\n",
       "      <th>mean</th>\n",
       "    </tr>\n",
       "    <tr>\n",
       "      <th>week</th>\n",
       "      <th></th>\n",
       "      <th></th>\n",
       "    </tr>\n",
       "  </thead>\n",
       "  <tbody>\n",
       "    <tr>\n",
       "      <th>1</th>\n",
       "      <td>20.5</td>\n",
       "      <td>2.928571</td>\n",
       "    </tr>\n",
       "    <tr>\n",
       "      <th>2</th>\n",
       "      <td>16.0</td>\n",
       "      <td>2.285714</td>\n",
       "    </tr>\n",
       "    <tr>\n",
       "      <th>3</th>\n",
       "      <td>14.5</td>\n",
       "      <td>2.071429</td>\n",
       "    </tr>\n",
       "    <tr>\n",
       "      <th>4</th>\n",
       "      <td>10.0</td>\n",
       "      <td>3.333333</td>\n",
       "    </tr>\n",
       "  </tbody>\n",
       "</table>\n",
       "</div>"
      ],
      "text/plain": [
       "     hours          \n",
       "       sum      mean\n",
       "week                \n",
       "1     20.5  2.928571\n",
       "2     16.0  2.285714\n",
       "3     14.5  2.071429\n",
       "4     10.0  3.333333"
      ]
     },
     "execution_count": 5,
     "metadata": {},
     "output_type": "execute_result"
    }
   ],
   "source": [
    "df.groupby('week').agg({'hours': ['sum','mean']})"
   ]
  },
  {
   "cell_type": "code",
   "execution_count": 6,
   "id": "23f06451",
   "metadata": {
    "execution": {
     "iopub.execute_input": "2023-12-25T12:49:59.027348Z",
     "iopub.status.busy": "2023-12-25T12:49:59.026542Z",
     "iopub.status.idle": "2023-12-25T12:49:59.040313Z",
     "shell.execute_reply": "2023-12-25T12:49:59.039087Z"
    },
    "papermill": {
     "duration": 0.023913,
     "end_time": "2023-12-25T12:49:59.042964",
     "exception": false,
     "start_time": "2023-12-25T12:49:59.019051",
     "status": "completed"
    },
    "tags": []
   },
   "outputs": [
    {
     "data": {
      "text/html": [
       "<div>\n",
       "<style scoped>\n",
       "    .dataframe tbody tr th:only-of-type {\n",
       "        vertical-align: middle;\n",
       "    }\n",
       "\n",
       "    .dataframe tbody tr th {\n",
       "        vertical-align: top;\n",
       "    }\n",
       "\n",
       "    .dataframe thead th {\n",
       "        text-align: right;\n",
       "    }\n",
       "</style>\n",
       "<table border=\"1\" class=\"dataframe\">\n",
       "  <thead>\n",
       "    <tr style=\"text-align: right;\">\n",
       "      <th></th>\n",
       "      <th>hours</th>\n",
       "    </tr>\n",
       "    <tr>\n",
       "      <th>day</th>\n",
       "      <th></th>\n",
       "    </tr>\n",
       "  </thead>\n",
       "  <tbody>\n",
       "    <tr>\n",
       "      <th>fri</th>\n",
       "      <td>2.875000</td>\n",
       "    </tr>\n",
       "    <tr>\n",
       "      <th>sat</th>\n",
       "      <td>2.500000</td>\n",
       "    </tr>\n",
       "    <tr>\n",
       "      <th>sun</th>\n",
       "      <td>2.375000</td>\n",
       "    </tr>\n",
       "    <tr>\n",
       "      <th>mon</th>\n",
       "      <td>2.666667</td>\n",
       "    </tr>\n",
       "    <tr>\n",
       "      <th>tue</th>\n",
       "      <td>2.833333</td>\n",
       "    </tr>\n",
       "    <tr>\n",
       "      <th>wed</th>\n",
       "      <td>2.166667</td>\n",
       "    </tr>\n",
       "    <tr>\n",
       "      <th>thr</th>\n",
       "      <td>2.333333</td>\n",
       "    </tr>\n",
       "  </tbody>\n",
       "</table>\n",
       "</div>"
      ],
      "text/plain": [
       "        hours\n",
       "day          \n",
       "fri  2.875000\n",
       "sat  2.500000\n",
       "sun  2.375000\n",
       "mon  2.666667\n",
       "tue  2.833333\n",
       "wed  2.166667\n",
       "thr  2.333333"
      ]
     },
     "execution_count": 6,
     "metadata": {},
     "output_type": "execute_result"
    }
   ],
   "source": [
    "df.groupby('day', sort = False).agg({'hours': 'mean'})"
   ]
  },
  {
   "cell_type": "code",
   "execution_count": 7,
   "id": "0af2aee9",
   "metadata": {
    "execution": {
     "iopub.execute_input": "2023-12-25T12:49:59.056584Z",
     "iopub.status.busy": "2023-12-25T12:49:59.056150Z",
     "iopub.status.idle": "2023-12-25T12:49:59.699530Z",
     "shell.execute_reply": "2023-12-25T12:49:59.698370Z"
    },
    "papermill": {
     "duration": 0.65328,
     "end_time": "2023-12-25T12:49:59.702199",
     "exception": false,
     "start_time": "2023-12-25T12:49:59.048919",
     "status": "completed"
    },
    "tags": []
   },
   "outputs": [
    {
     "data": {
      "text/plain": [
       "<Axes: xlabel='date', ylabel='hours'>"
      ]
     },
     "execution_count": 7,
     "metadata": {},
     "output_type": "execute_result"
    },
    {
     "data": {
      "image/png": "[encoded data removed]",
      "text/plain": [
       "<Figure size 2000x600 with 1 Axes>"
      ]
     },
     "metadata": {},
     "output_type": "display_data"
    }
   ],
   "source": [
    "plt.figure(figsize=(20,6))\n",
    "sns.barplot(x = df['date'], y = df['hours'])"
   ]
  },
  {
   "cell_type": "code",
   "execution_count": 8,
   "id": "6b3ded63",
   "metadata": {
    "execution": {
     "iopub.execute_input": "2023-12-25T12:49:59.717090Z",
     "iopub.status.busy": "2023-12-25T12:49:59.716691Z",
     "iopub.status.idle": "2023-12-25T12:49:59.920961Z",
     "shell.execute_reply": "2023-12-25T12:49:59.919737Z"
    },
    "papermill": {
     "duration": 0.215114,
     "end_time": "2023-12-25T12:49:59.923800",
     "exception": false,
     "start_time": "2023-12-25T12:49:59.708686",
     "status": "completed"
    },
    "tags": []
   },
   "outputs": [
    {
     "data": {
      "image/png": "[encoded data removed]",
      "text/plain": [
       "<Figure size 640x480 with 1 Axes>"
      ]
     },
     "metadata": {},
     "output_type": "display_data"
    }
   ],
   "source": [
    "completed = df['hours'].sum()\n",
    "remaining = 390 - completed\n",
    "\n",
    "# Seaborn style settings (optional but can enhance aesthetics)\n",
    "sns.set(style=\"whitegrid\")\n",
    "\n",
    "# Data for the donut chart\n",
    "sizes = [completed, remaining]\n",
    "labels = ['Completed', 'Remaining']\n",
    "colors = ['green', 'red']  # Specify colors for completed and remaining portions\n",
    "\n",
    "# Create a donut chart using Matplotlib's plt.pie()\n",
    "plt.pie(sizes, labels=labels, autopct=lambda p: '{:.0f}'.format(p * sum(sizes) / 100), startangle=90, wedgeprops=dict(width=0.6), colors=colors)\n",
    "\n",
    "# Draw a circle in the center to create the hole\n",
    "centre_circle = plt.Circle((0, 0), 0.3, color='white', fc='white', linewidth=1.25)\n",
    "fig = plt.gcf()\n",
    "fig.gca().add_artist(centre_circle)\n",
    "\n",
    "# Equal aspect ratio ensures that pie is drawn as a circle.\n",
    "plt.axis('equal')\n",
    "\n",
    "# Title to represent the task\n",
    "plt.title('Progress')\n",
    "\n",
    "# Show the plot\n",
    "plt.show()"
   ]
  },
  {
   "cell_type": "code",
   "execution_count": 9,
   "id": "4024d030",
   "metadata": {
    "execution": {
     "iopub.execute_input": "2023-12-25T12:49:59.940365Z",
     "iopub.status.busy": "2023-12-25T12:49:59.939598Z",
     "iopub.status.idle": "2023-12-25T12:49:59.947828Z",
     "shell.execute_reply": "2023-12-25T12:49:59.946683Z"
    },
    "papermill": {
     "duration": 0.019638,
     "end_time": "2023-12-25T12:49:59.950527",
     "exception": false,
     "start_time": "2023-12-25T12:49:59.930889",
     "status": "completed"
    },
    "tags": []
   },
   "outputs": [],
   "source": [
    "df['cumulative_hours'] = df['hours'].expanding().mean()"
   ]
  },
  {
   "cell_type": "code",
   "execution_count": 10,
   "id": "a511ed43",
   "metadata": {
    "execution": {
     "iopub.execute_input": "2023-12-25T12:49:59.968617Z",
     "iopub.status.busy": "2023-12-25T12:49:59.967806Z",
     "iopub.status.idle": "2023-12-25T12:50:00.484800Z",
     "shell.execute_reply": "2023-12-25T12:50:00.483628Z"
    },
    "papermill": {
     "duration": 0.529994,
     "end_time": "2023-12-25T12:50:00.487906",
     "exception": false,
     "start_time": "2023-12-25T12:49:59.957912",
     "status": "completed"
    },
    "tags": []
   },
   "outputs": [
    {
     "data": {
      "image/png": "[encoded data removed]",
      "text/plain": [
       "<Figure size 1000x600 with 1 Axes>"
      ]
     },
     "metadata": {},
     "output_type": "display_data"
    }
   ],
   "source": [
    "# Plotting the cumulative_hours column\n",
    "plt.figure(figsize=(10, 6))\n",
    "plt.plot(df['date'], df['cumulative_hours'], marker='o', linestyle='-', color='b')\n",
    "plt.title('Cumulative Hours Over Days')\n",
    "plt.xlabel('Date')\n",
    "plt.ylabel('Cumulative Hours')\n",
    "plt.xticks(rotation=45)\n",
    "plt.grid(True)\n",
    "plt.show()"
   ]
  },
  {
   "cell_type": "code",
   "execution_count": null,
   "id": "20c6c046",
   "metadata": {
    "papermill": {
     "duration": 0.007659,
     "end_time": "2023-12-25T12:50:00.503486",
     "exception": false,
     "start_time": "2023-12-25T12:50:00.495827",
     "status": "completed"
    },
    "tags": []
   },
   "outputs": [],
   "source": []
  }
 ],
 "metadata": {
  "kaggle": {
   "accelerator": "none",
   "dataSources": [],
   "dockerImageVersionId": 30615,
   "isGpuEnabled": false,
   "isInternetEnabled": true,
   "language": "python",
   "sourceType": "notebook"
  },
  "kernelspec": {
   "display_name": "Python 3",
   "language": "python",
   "name": "python3"
  },
  "language_info": {
   "codemirror_mode": {
    "name": "ipython",
    "version": 3
   },
   "file_extension": ".py",
   "mimetype": "text/x-python",
   "name": "python",
   "nbconvert_exporter": "python",
   "pygments_lexer": "ipython3",
   "version": "3.10.12"
  },
  "papermill": {
   "default_parameters": {},
   "duration": 8.315918,
   "end_time": "2023-12-25T12:50:01.133340",
   "environment_variables": {},
   "exception": null,
   "input_path": "__notebook__.ipynb",
   "output_path": "__notebook__.ipynb",
   "parameters": {},
   "start_time": "2023-12-25T12:49:52.817422",
   "version": "2.4.0"
  }
 },
 "nbformat": 4,
 "nbformat_minor": 5
}
