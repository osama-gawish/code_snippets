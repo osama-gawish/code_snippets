{
 "cells": [
  {
   "cell_type": "code",
   "execution_count": 1,
   "id": "1c9d1443",
   "metadata": {
    "_cell_guid": "b1076dfc-b9ad-4769-8c92-a6c4dae69d19",
    "_uuid": "8f2839f25d086af736a60e9eeb907d3b93b6e0e5",
    "execution": {
     "iopub.execute_input": "2023-12-30T07:50:24.152376Z",
     "iopub.status.busy": "2023-12-30T07:50:24.151863Z",
     "iopub.status.idle": "2023-12-30T07:50:24.666540Z",
     "shell.execute_reply": "2023-12-30T07:50:24.665359Z"
    },
    "papermill": {
     "duration": 0.526324,
     "end_time": "2023-12-30T07:50:24.669707",
     "exception": false,
     "start_time": "2023-12-30T07:50:24.143383",
     "status": "completed"
    },
    "tags": []
   },
   "outputs": [],
   "source": [
    "import pandas as pd"
   ]
  },
  {
   "cell_type": "markdown",
   "id": "c8ee8a36",
   "metadata": {
    "papermill": {
     "duration": 0.005492,
     "end_time": "2023-12-30T07:50:24.681571",
     "exception": false,
     "start_time": "2023-12-30T07:50:24.676079",
     "status": "completed"
    },
    "tags": []
   },
   "source": [
    "# leetcode proplems to review:\n",
    "1. Reshape Data: Pivot\n",
    "2. Reshape Data: melt\n",
    "3. Customers who never order"
   ]
  },
  {
   "cell_type": "markdown",
   "id": "aeea1c6f",
   "metadata": {
    "papermill": {
     "duration": 0.005599,
     "end_time": "2023-12-30T07:50:24.692897",
     "exception": false,
     "start_time": "2023-12-30T07:50:24.687298",
     "status": "completed"
    },
    "tags": []
   },
   "source": [
    "## sample 1"
   ]
  },
  {
   "cell_type": "code",
   "execution_count": 2,
   "id": "f50d392d",
   "metadata": {
    "execution": {
     "iopub.execute_input": "2023-12-30T07:50:24.708794Z",
     "iopub.status.busy": "2023-12-30T07:50:24.707649Z",
     "iopub.status.idle": "2023-12-30T07:50:24.736410Z",
     "shell.execute_reply": "2023-12-30T07:50:24.735325Z"
    },
    "papermill": {
     "duration": 0.041005,
     "end_time": "2023-12-30T07:50:24.739805",
     "exception": false,
     "start_time": "2023-12-30T07:50:24.698800",
     "status": "completed"
    },
    "tags": []
   },
   "outputs": [
    {
     "data": {
      "text/html": [
       "<div>\n",
       "<style scoped>\n",
       "    .dataframe tbody tr th:only-of-type {\n",
       "        vertical-align: middle;\n",
       "    }\n",
       "\n",
       "    .dataframe tbody tr th {\n",
       "        vertical-align: top;\n",
       "    }\n",
       "\n",
       "    .dataframe thead th {\n",
       "        text-align: right;\n",
       "    }\n",
       "</style>\n",
       "<table border=\"1\" class=\"dataframe\">\n",
       "  <thead>\n",
       "    <tr style=\"text-align: right;\">\n",
       "      <th></th>\n",
       "      <th>student_id</th>\n",
       "      <th>age</th>\n",
       "    </tr>\n",
       "  </thead>\n",
       "  <tbody>\n",
       "    <tr>\n",
       "      <th>0</th>\n",
       "      <td>1</td>\n",
       "      <td>15</td>\n",
       "    </tr>\n",
       "    <tr>\n",
       "      <th>1</th>\n",
       "      <td>2</td>\n",
       "      <td>11</td>\n",
       "    </tr>\n",
       "    <tr>\n",
       "      <th>2</th>\n",
       "      <td>3</td>\n",
       "      <td>11</td>\n",
       "    </tr>\n",
       "    <tr>\n",
       "      <th>3</th>\n",
       "      <td>4</td>\n",
       "      <td>20</td>\n",
       "    </tr>\n",
       "  </tbody>\n",
       "</table>\n",
       "</div>"
      ],
      "text/plain": [
       "   student_id  age\n",
       "0           1   15\n",
       "1           2   11\n",
       "2           3   11\n",
       "3           4   20"
      ]
     },
     "execution_count": 2,
     "metadata": {},
     "output_type": "execute_result"
    }
   ],
   "source": [
    "student_data = [\n",
    "    [1, 15],\n",
    "    [2, 11],\n",
    "    [3, 11],\n",
    "    [4, 20]\n",
    "    ]\n",
    "data = pd.DataFrame(student_data, columns = ['student_id', 'age'])\n",
    "\n",
    "df = pd.DataFrame(data)\n",
    "df"
   ]
  },
  {
   "cell_type": "code",
   "execution_count": 3,
   "id": "f8e0691a",
   "metadata": {
    "execution": {
     "iopub.execute_input": "2023-12-30T07:50:24.754629Z",
     "iopub.status.busy": "2023-12-30T07:50:24.754121Z",
     "iopub.status.idle": "2023-12-30T07:50:24.762942Z",
     "shell.execute_reply": "2023-12-30T07:50:24.761713Z"
    },
    "papermill": {
     "duration": 0.020299,
     "end_time": "2023-12-30T07:50:24.766149",
     "exception": false,
     "start_time": "2023-12-30T07:50:24.745850",
     "status": "completed"
    },
    "tags": []
   },
   "outputs": [],
   "source": [
    "df['bonus'] = df['age'] *2"
   ]
  },
  {
   "cell_type": "code",
   "execution_count": 4,
   "id": "ffac48f9",
   "metadata": {
    "execution": {
     "iopub.execute_input": "2023-12-30T07:50:24.782799Z",
     "iopub.status.busy": "2023-12-30T07:50:24.781476Z",
     "iopub.status.idle": "2023-12-30T07:50:24.793876Z",
     "shell.execute_reply": "2023-12-30T07:50:24.792699Z"
    },
    "papermill": {
     "duration": 0.023358,
     "end_time": "2023-12-30T07:50:24.796599",
     "exception": false,
     "start_time": "2023-12-30T07:50:24.773241",
     "status": "completed"
    },
    "tags": []
   },
   "outputs": [
    {
     "data": {
      "text/html": [
       "<div>\n",
       "<style scoped>\n",
       "    .dataframe tbody tr th:only-of-type {\n",
       "        vertical-align: middle;\n",
       "    }\n",
       "\n",
       "    .dataframe tbody tr th {\n",
       "        vertical-align: top;\n",
       "    }\n",
       "\n",
       "    .dataframe thead th {\n",
       "        text-align: right;\n",
       "    }\n",
       "</style>\n",
       "<table border=\"1\" class=\"dataframe\">\n",
       "  <thead>\n",
       "    <tr style=\"text-align: right;\">\n",
       "      <th></th>\n",
       "      <th>student_id</th>\n",
       "      <th>age</th>\n",
       "      <th>bonus</th>\n",
       "    </tr>\n",
       "  </thead>\n",
       "  <tbody>\n",
       "    <tr>\n",
       "      <th>0</th>\n",
       "      <td>1</td>\n",
       "      <td>15</td>\n",
       "      <td>30</td>\n",
       "    </tr>\n",
       "    <tr>\n",
       "      <th>1</th>\n",
       "      <td>2</td>\n",
       "      <td>11</td>\n",
       "      <td>22</td>\n",
       "    </tr>\n",
       "    <tr>\n",
       "      <th>2</th>\n",
       "      <td>3</td>\n",
       "      <td>11</td>\n",
       "      <td>22</td>\n",
       "    </tr>\n",
       "    <tr>\n",
       "      <th>3</th>\n",
       "      <td>4</td>\n",
       "      <td>20</td>\n",
       "      <td>40</td>\n",
       "    </tr>\n",
       "  </tbody>\n",
       "</table>\n",
       "</div>"
      ],
      "text/plain": [
       "   student_id  age  bonus\n",
       "0           1   15     30\n",
       "1           2   11     22\n",
       "2           3   11     22\n",
       "3           4   20     40"
      ]
     },
     "execution_count": 4,
     "metadata": {},
     "output_type": "execute_result"
    }
   ],
   "source": [
    "df"
   ]
  },
  {
   "cell_type": "code",
   "execution_count": 5,
   "id": "c897b48f",
   "metadata": {
    "execution": {
     "iopub.execute_input": "2023-12-30T07:50:24.813025Z",
     "iopub.status.busy": "2023-12-30T07:50:24.812492Z",
     "iopub.status.idle": "2023-12-30T07:50:24.842701Z",
     "shell.execute_reply": "2023-12-30T07:50:24.841498Z"
    },
    "papermill": {
     "duration": 0.042934,
     "end_time": "2023-12-30T07:50:24.846038",
     "exception": false,
     "start_time": "2023-12-30T07:50:24.803104",
     "status": "completed"
    },
    "tags": []
   },
   "outputs": [
    {
     "data": {
      "text/html": [
       "<div>\n",
       "<style scoped>\n",
       "    .dataframe tbody tr th:only-of-type {\n",
       "        vertical-align: middle;\n",
       "    }\n",
       "\n",
       "    .dataframe tbody tr th {\n",
       "        vertical-align: top;\n",
       "    }\n",
       "\n",
       "    .dataframe thead th {\n",
       "        text-align: right;\n",
       "    }\n",
       "</style>\n",
       "<table border=\"1\" class=\"dataframe\">\n",
       "  <thead>\n",
       "    <tr style=\"text-align: right;\">\n",
       "      <th></th>\n",
       "      <th>student_id</th>\n",
       "    </tr>\n",
       "  </thead>\n",
       "  <tbody>\n",
       "    <tr>\n",
       "      <th>1</th>\n",
       "      <td>2</td>\n",
       "    </tr>\n",
       "    <tr>\n",
       "      <th>2</th>\n",
       "      <td>3</td>\n",
       "    </tr>\n",
       "  </tbody>\n",
       "</table>\n",
       "</div>"
      ],
      "text/plain": [
       "   student_id\n",
       "1           2\n",
       "2           3"
      ]
     },
     "execution_count": 5,
     "metadata": {},
     "output_type": "execute_result"
    }
   ],
   "source": [
    "df.query('age == 11 & bonus == 22')[['student_id']]"
   ]
  },
  {
   "cell_type": "markdown",
   "id": "72c57c92",
   "metadata": {
    "papermill": {
     "duration": 0.006721,
     "end_time": "2023-12-30T07:50:24.860019",
     "exception": false,
     "start_time": "2023-12-30T07:50:24.853298",
     "status": "completed"
    },
    "tags": []
   },
   "source": [
    "## Sample 2"
   ]
  },
  {
   "cell_type": "code",
   "execution_count": 6,
   "id": "a54cf097",
   "metadata": {
    "execution": {
     "iopub.execute_input": "2023-12-30T07:50:24.877380Z",
     "iopub.status.busy": "2023-12-30T07:50:24.876851Z",
     "iopub.status.idle": "2023-12-30T07:50:24.884691Z",
     "shell.execute_reply": "2023-12-30T07:50:24.883259Z"
    },
    "papermill": {
     "duration": 0.021119,
     "end_time": "2023-12-30T07:50:24.887852",
     "exception": false,
     "start_time": "2023-12-30T07:50:24.866733",
     "status": "completed"
    },
    "tags": []
   },
   "outputs": [],
   "source": [
    "customers = { 'a_id': [1 ,2, 3, 2, 1, 6], 'name': ['aa', 'bb', 'cc' , 'dd', 'ee', 'ff'], 'v_id': [3, 1, 4, 3, 5, 6]}\n",
    "orders = { 'id': [1, 2], 'customerId': [3, 1]}"
   ]
  },
  {
   "cell_type": "code",
   "execution_count": 7,
   "id": "20c6cc81",
   "metadata": {
    "execution": {
     "iopub.execute_input": "2023-12-30T07:50:24.905882Z",
     "iopub.status.busy": "2023-12-30T07:50:24.904653Z",
     "iopub.status.idle": "2023-12-30T07:50:24.913457Z",
     "shell.execute_reply": "2023-12-30T07:50:24.912392Z"
    },
    "papermill": {
     "duration": 0.02141,
     "end_time": "2023-12-30T07:50:24.916634",
     "exception": false,
     "start_time": "2023-12-30T07:50:24.895224",
     "status": "completed"
    },
    "tags": []
   },
   "outputs": [],
   "source": [
    "customers = pd.DataFrame(customers)\n",
    "orders = pd.DataFrame(orders)"
   ]
  },
  {
   "cell_type": "code",
   "execution_count": 8,
   "id": "c917b07c",
   "metadata": {
    "execution": {
     "iopub.execute_input": "2023-12-30T07:50:24.932907Z",
     "iopub.status.busy": "2023-12-30T07:50:24.931663Z",
     "iopub.status.idle": "2023-12-30T07:50:24.943363Z",
     "shell.execute_reply": "2023-12-30T07:50:24.942207Z"
    },
    "papermill": {
     "duration": 0.022672,
     "end_time": "2023-12-30T07:50:24.946071",
     "exception": false,
     "start_time": "2023-12-30T07:50:24.923399",
     "status": "completed"
    },
    "tags": []
   },
   "outputs": [
    {
     "data": {
      "text/html": [
       "<div>\n",
       "<style scoped>\n",
       "    .dataframe tbody tr th:only-of-type {\n",
       "        vertical-align: middle;\n",
       "    }\n",
       "\n",
       "    .dataframe tbody tr th {\n",
       "        vertical-align: top;\n",
       "    }\n",
       "\n",
       "    .dataframe thead th {\n",
       "        text-align: right;\n",
       "    }\n",
       "</style>\n",
       "<table border=\"1\" class=\"dataframe\">\n",
       "  <thead>\n",
       "    <tr style=\"text-align: right;\">\n",
       "      <th></th>\n",
       "      <th>a_id</th>\n",
       "      <th>name</th>\n",
       "      <th>v_id</th>\n",
       "    </tr>\n",
       "  </thead>\n",
       "  <tbody>\n",
       "    <tr>\n",
       "      <th>0</th>\n",
       "      <td>1</td>\n",
       "      <td>aa</td>\n",
       "      <td>3</td>\n",
       "    </tr>\n",
       "    <tr>\n",
       "      <th>1</th>\n",
       "      <td>2</td>\n",
       "      <td>bb</td>\n",
       "      <td>1</td>\n",
       "    </tr>\n",
       "    <tr>\n",
       "      <th>2</th>\n",
       "      <td>3</td>\n",
       "      <td>cc</td>\n",
       "      <td>4</td>\n",
       "    </tr>\n",
       "    <tr>\n",
       "      <th>3</th>\n",
       "      <td>2</td>\n",
       "      <td>dd</td>\n",
       "      <td>3</td>\n",
       "    </tr>\n",
       "    <tr>\n",
       "      <th>4</th>\n",
       "      <td>1</td>\n",
       "      <td>ee</td>\n",
       "      <td>5</td>\n",
       "    </tr>\n",
       "    <tr>\n",
       "      <th>5</th>\n",
       "      <td>6</td>\n",
       "      <td>ff</td>\n",
       "      <td>6</td>\n",
       "    </tr>\n",
       "  </tbody>\n",
       "</table>\n",
       "</div>"
      ],
      "text/plain": [
       "   a_id name  v_id\n",
       "0     1   aa     3\n",
       "1     2   bb     1\n",
       "2     3   cc     4\n",
       "3     2   dd     3\n",
       "4     1   ee     5\n",
       "5     6   ff     6"
      ]
     },
     "execution_count": 8,
     "metadata": {},
     "output_type": "execute_result"
    }
   ],
   "source": [
    "customers"
   ]
  },
  {
   "cell_type": "code",
   "execution_count": 9,
   "id": "bf054a99",
   "metadata": {
    "execution": {
     "iopub.execute_input": "2023-12-30T07:50:24.962630Z",
     "iopub.status.busy": "2023-12-30T07:50:24.962136Z",
     "iopub.status.idle": "2023-12-30T07:50:24.968533Z",
     "shell.execute_reply": "2023-12-30T07:50:24.967340Z"
    },
    "papermill": {
     "duration": 0.017948,
     "end_time": "2023-12-30T07:50:24.971211",
     "exception": false,
     "start_time": "2023-12-30T07:50:24.953263",
     "status": "completed"
    },
    "tags": []
   },
   "outputs": [],
   "source": [
    "df = pd.DataFrame()"
   ]
  },
  {
   "cell_type": "code",
   "execution_count": 10,
   "id": "dc2fa880",
   "metadata": {
    "execution": {
     "iopub.execute_input": "2023-12-30T07:50:24.987551Z",
     "iopub.status.busy": "2023-12-30T07:50:24.987064Z",
     "iopub.status.idle": "2023-12-30T07:50:25.001449Z",
     "shell.execute_reply": "2023-12-30T07:50:24.999839Z"
    },
    "papermill": {
     "duration": 0.025929,
     "end_time": "2023-12-30T07:50:25.004161",
     "exception": false,
     "start_time": "2023-12-30T07:50:24.978232",
     "status": "completed"
    },
    "tags": []
   },
   "outputs": [],
   "source": [
    "df['id'] = customers.loc[customers['a_id'].isin(customers.v_id)][['a_id']]\n",
    "df = df.sort_values('id')\n",
    "df = df.drop_duplicates()"
   ]
  },
  {
   "cell_type": "code",
   "execution_count": 11,
   "id": "d20161f0",
   "metadata": {
    "execution": {
     "iopub.execute_input": "2023-12-30T07:50:25.023098Z",
     "iopub.status.busy": "2023-12-30T07:50:25.022475Z",
     "iopub.status.idle": "2023-12-30T07:50:25.029818Z",
     "shell.execute_reply": "2023-12-30T07:50:25.028671Z"
    },
    "papermill": {
     "duration": 0.020563,
     "end_time": "2023-12-30T07:50:25.032343",
     "exception": false,
     "start_time": "2023-12-30T07:50:25.011780",
     "status": "completed"
    },
    "tags": []
   },
   "outputs": [],
   "source": [
    "df['dsd'] = df['id'].unique()"
   ]
  },
  {
   "cell_type": "code",
   "execution_count": 12,
   "id": "4c211008",
   "metadata": {
    "execution": {
     "iopub.execute_input": "2023-12-30T07:50:25.049518Z",
     "iopub.status.busy": "2023-12-30T07:50:25.049021Z",
     "iopub.status.idle": "2023-12-30T07:50:25.060545Z",
     "shell.execute_reply": "2023-12-30T07:50:25.059553Z"
    },
    "papermill": {
     "duration": 0.023704,
     "end_time": "2023-12-30T07:50:25.063144",
     "exception": false,
     "start_time": "2023-12-30T07:50:25.039440",
     "status": "completed"
    },
    "tags": []
   },
   "outputs": [
    {
     "data": {
      "text/html": [
       "<div>\n",
       "<style scoped>\n",
       "    .dataframe tbody tr th:only-of-type {\n",
       "        vertical-align: middle;\n",
       "    }\n",
       "\n",
       "    .dataframe tbody tr th {\n",
       "        vertical-align: top;\n",
       "    }\n",
       "\n",
       "    .dataframe thead th {\n",
       "        text-align: right;\n",
       "    }\n",
       "</style>\n",
       "<table border=\"1\" class=\"dataframe\">\n",
       "  <thead>\n",
       "    <tr style=\"text-align: right;\">\n",
       "      <th></th>\n",
       "      <th>id</th>\n",
       "      <th>dsd</th>\n",
       "    </tr>\n",
       "  </thead>\n",
       "  <tbody>\n",
       "    <tr>\n",
       "      <th>0</th>\n",
       "      <td>1</td>\n",
       "      <td>1</td>\n",
       "    </tr>\n",
       "    <tr>\n",
       "      <th>2</th>\n",
       "      <td>3</td>\n",
       "      <td>3</td>\n",
       "    </tr>\n",
       "    <tr>\n",
       "      <th>5</th>\n",
       "      <td>6</td>\n",
       "      <td>6</td>\n",
       "    </tr>\n",
       "  </tbody>\n",
       "</table>\n",
       "</div>"
      ],
      "text/plain": [
       "   id  dsd\n",
       "0   1    1\n",
       "2   3    3\n",
       "5   6    6"
      ]
     },
     "execution_count": 12,
     "metadata": {},
     "output_type": "execute_result"
    }
   ],
   "source": [
    "df"
   ]
  },
  {
   "cell_type": "code",
   "execution_count": null,
   "id": "fef0d0e7",
   "metadata": {
    "papermill": {
     "duration": 0.007451,
     "end_time": "2023-12-30T07:50:25.077822",
     "exception": false,
     "start_time": "2023-12-30T07:50:25.070371",
     "status": "completed"
    },
    "tags": []
   },
   "outputs": [],
   "source": []
  }
 ],
 "metadata": {
  "kaggle": {
   "accelerator": "none",
   "dataSources": [],
   "dockerImageVersionId": 30626,
   "isGpuEnabled": false,
   "isInternetEnabled": true,
   "language": "python",
   "sourceType": "notebook"
  },
  "kernelspec": {
   "display_name": "Python 3",
   "language": "python",
   "name": "python3"
  },
  "language_info": {
   "codemirror_mode": {
    "name": "ipython",
    "version": 3
   },
   "file_extension": ".py",
   "mimetype": "text/x-python",
   "name": "python",
   "nbconvert_exporter": "python",
   "pygments_lexer": "ipython3",
   "version": "3.10.12"
  },
  "papermill": {
   "default_parameters": {},
   "duration": 5.358793,
   "end_time": "2023-12-30T07:50:25.809102",
   "environment_variables": {},
   "exception": null,
   "input_path": "__notebook__.ipynb",
   "output_path": "__notebook__.ipynb",
   "parameters": {},
   "start_time": "2023-12-30T07:50:20.450309",
   "version": "2.4.0"
  }
 },
 "nbformat": 4,
 "nbformat_minor": 5
}
