{
 "cells": [
  {
   "cell_type": "code",
   "execution_count": 1,
   "id": "8a0703cf",
   "metadata": {
    "_cell_guid": "b1076dfc-b9ad-4769-8c92-a6c4dae69d19",
    "_uuid": "8f2839f25d086af736a60e9eeb907d3b93b6e0e5",
    "execution": {
     "iopub.execute_input": "2023-12-31T17:57:31.944274Z",
     "iopub.status.busy": "2023-12-31T17:57:31.943895Z",
     "iopub.status.idle": "2023-12-31T17:57:32.319562Z",
     "shell.execute_reply": "2023-12-31T17:57:32.318567Z"
    },
    "papermill": {
     "duration": 0.384892,
     "end_time": "2023-12-31T17:57:32.322161",
     "exception": false,
     "start_time": "2023-12-31T17:57:31.937269",
     "status": "completed"
    },
    "tags": []
   },
   "outputs": [],
   "source": [
    "import pandas as pd"
   ]
  },
  {
   "cell_type": "markdown",
   "id": "9f048553",
   "metadata": {
    "papermill": {
     "duration": 0.004433,
     "end_time": "2023-12-31T17:57:32.331604",
     "exception": false,
     "start_time": "2023-12-31T17:57:32.327171",
     "status": "completed"
    },
    "tags": []
   },
   "source": [
    "# leetcode proplems to review:\n",
    "1. Reshape Data: Pivot\n",
    "2. Reshape Data: melt\n",
    "3. Customers who never order\n",
    "4. Article Views I (one of their own articals)"
   ]
  },
  {
   "cell_type": "markdown",
   "id": "4805bd67",
   "metadata": {
    "papermill": {
     "duration": 0.004381,
     "end_time": "2023-12-31T17:57:32.340990",
     "exception": false,
     "start_time": "2023-12-31T17:57:32.336609",
     "status": "completed"
    },
    "tags": []
   },
   "source": [
    "## sample 1"
   ]
  },
  {
   "cell_type": "code",
   "execution_count": 2,
   "id": "79bc1650",
   "metadata": {
    "execution": {
     "iopub.execute_input": "2023-12-31T17:57:32.352167Z",
     "iopub.status.busy": "2023-12-31T17:57:32.351710Z",
     "iopub.status.idle": "2023-12-31T17:57:32.373271Z",
     "shell.execute_reply": "2023-12-31T17:57:32.372221Z"
    },
    "papermill": {
     "duration": 0.030378,
     "end_time": "2023-12-31T17:57:32.376147",
     "exception": false,
     "start_time": "2023-12-31T17:57:32.345769",
     "status": "completed"
    },
    "tags": []
   },
   "outputs": [
    {
     "data": {
      "text/html": [
       "<div>\n",
       "<style scoped>\n",
       "    .dataframe tbody tr th:only-of-type {\n",
       "        vertical-align: middle;\n",
       "    }\n",
       "\n",
       "    .dataframe tbody tr th {\n",
       "        vertical-align: top;\n",
       "    }\n",
       "\n",
       "    .dataframe thead th {\n",
       "        text-align: right;\n",
       "    }\n",
       "</style>\n",
       "<table border=\"1\" class=\"dataframe\">\n",
       "  <thead>\n",
       "    <tr style=\"text-align: right;\">\n",
       "      <th></th>\n",
       "      <th>student_id</th>\n",
       "      <th>age</th>\n",
       "    </tr>\n",
       "  </thead>\n",
       "  <tbody>\n",
       "    <tr>\n",
       "      <th>0</th>\n",
       "      <td>1</td>\n",
       "      <td>15</td>\n",
       "    </tr>\n",
       "    <tr>\n",
       "      <th>1</th>\n",
       "      <td>2</td>\n",
       "      <td>11</td>\n",
       "    </tr>\n",
       "    <tr>\n",
       "      <th>2</th>\n",
       "      <td>3</td>\n",
       "      <td>11</td>\n",
       "    </tr>\n",
       "    <tr>\n",
       "      <th>3</th>\n",
       "      <td>4</td>\n",
       "      <td>20</td>\n",
       "    </tr>\n",
       "  </tbody>\n",
       "</table>\n",
       "</div>"
      ],
      "text/plain": [
       "   student_id  age\n",
       "0           1   15\n",
       "1           2   11\n",
       "2           3   11\n",
       "3           4   20"
      ]
     },
     "execution_count": 2,
     "metadata": {},
     "output_type": "execute_result"
    }
   ],
   "source": [
    "student_data = [\n",
    "    [1, 15],\n",
    "    [2, 11],\n",
    "    [3, 11],\n",
    "    [4, 20]\n",
    "    ]\n",
    "data = pd.DataFrame(student_data, columns = ['student_id', 'age'])\n",
    "\n",
    "df = pd.DataFrame(data)\n",
    "df"
   ]
  },
  {
   "cell_type": "code",
   "execution_count": 3,
   "id": "de3b7f93",
   "metadata": {
    "execution": {
     "iopub.execute_input": "2023-12-31T17:57:32.389668Z",
     "iopub.status.busy": "2023-12-31T17:57:32.389115Z",
     "iopub.status.idle": "2023-12-31T17:57:32.396114Z",
     "shell.execute_reply": "2023-12-31T17:57:32.395324Z"
    },
    "papermill": {
     "duration": 0.015413,
     "end_time": "2023-12-31T17:57:32.398081",
     "exception": false,
     "start_time": "2023-12-31T17:57:32.382668",
     "status": "completed"
    },
    "tags": []
   },
   "outputs": [],
   "source": [
    "df['bonus'] = df['age'] *2"
   ]
  },
  {
   "cell_type": "code",
   "execution_count": 4,
   "id": "50beac60",
   "metadata": {
    "execution": {
     "iopub.execute_input": "2023-12-31T17:57:32.409964Z",
     "iopub.status.busy": "2023-12-31T17:57:32.409226Z",
     "iopub.status.idle": "2023-12-31T17:57:32.418618Z",
     "shell.execute_reply": "2023-12-31T17:57:32.417611Z"
    },
    "papermill": {
     "duration": 0.017618,
     "end_time": "2023-12-31T17:57:32.420660",
     "exception": false,
     "start_time": "2023-12-31T17:57:32.403042",
     "status": "completed"
    },
    "tags": []
   },
   "outputs": [
    {
     "data": {
      "text/html": [
       "<div>\n",
       "<style scoped>\n",
       "    .dataframe tbody tr th:only-of-type {\n",
       "        vertical-align: middle;\n",
       "    }\n",
       "\n",
       "    .dataframe tbody tr th {\n",
       "        vertical-align: top;\n",
       "    }\n",
       "\n",
       "    .dataframe thead th {\n",
       "        text-align: right;\n",
       "    }\n",
       "</style>\n",
       "<table border=\"1\" class=\"dataframe\">\n",
       "  <thead>\n",
       "    <tr style=\"text-align: right;\">\n",
       "      <th></th>\n",
       "      <th>student_id</th>\n",
       "      <th>age</th>\n",
       "      <th>bonus</th>\n",
       "    </tr>\n",
       "  </thead>\n",
       "  <tbody>\n",
       "    <tr>\n",
       "      <th>0</th>\n",
       "      <td>1</td>\n",
       "      <td>15</td>\n",
       "      <td>30</td>\n",
       "    </tr>\n",
       "    <tr>\n",
       "      <th>1</th>\n",
       "      <td>2</td>\n",
       "      <td>11</td>\n",
       "      <td>22</td>\n",
       "    </tr>\n",
       "    <tr>\n",
       "      <th>2</th>\n",
       "      <td>3</td>\n",
       "      <td>11</td>\n",
       "      <td>22</td>\n",
       "    </tr>\n",
       "    <tr>\n",
       "      <th>3</th>\n",
       "      <td>4</td>\n",
       "      <td>20</td>\n",
       "      <td>40</td>\n",
       "    </tr>\n",
       "  </tbody>\n",
       "</table>\n",
       "</div>"
      ],
      "text/plain": [
       "   student_id  age  bonus\n",
       "0           1   15     30\n",
       "1           2   11     22\n",
       "2           3   11     22\n",
       "3           4   20     40"
      ]
     },
     "execution_count": 4,
     "metadata": {},
     "output_type": "execute_result"
    }
   ],
   "source": [
    "df"
   ]
  },
  {
   "cell_type": "code",
   "execution_count": 5,
   "id": "2ad3d299",
   "metadata": {
    "execution": {
     "iopub.execute_input": "2023-12-31T17:57:32.432884Z",
     "iopub.status.busy": "2023-12-31T17:57:32.432164Z",
     "iopub.status.idle": "2023-12-31T17:57:32.455099Z",
     "shell.execute_reply": "2023-12-31T17:57:32.453912Z"
    },
    "papermill": {
     "duration": 0.031389,
     "end_time": "2023-12-31T17:57:32.457232",
     "exception": false,
     "start_time": "2023-12-31T17:57:32.425843",
     "status": "completed"
    },
    "tags": []
   },
   "outputs": [
    {
     "data": {
      "text/html": [
       "<div>\n",
       "<style scoped>\n",
       "    .dataframe tbody tr th:only-of-type {\n",
       "        vertical-align: middle;\n",
       "    }\n",
       "\n",
       "    .dataframe tbody tr th {\n",
       "        vertical-align: top;\n",
       "    }\n",
       "\n",
       "    .dataframe thead th {\n",
       "        text-align: right;\n",
       "    }\n",
       "</style>\n",
       "<table border=\"1\" class=\"dataframe\">\n",
       "  <thead>\n",
       "    <tr style=\"text-align: right;\">\n",
       "      <th></th>\n",
       "      <th>student_id</th>\n",
       "    </tr>\n",
       "  </thead>\n",
       "  <tbody>\n",
       "    <tr>\n",
       "      <th>1</th>\n",
       "      <td>2</td>\n",
       "    </tr>\n",
       "    <tr>\n",
       "      <th>2</th>\n",
       "      <td>3</td>\n",
       "    </tr>\n",
       "  </tbody>\n",
       "</table>\n",
       "</div>"
      ],
      "text/plain": [
       "   student_id\n",
       "1           2\n",
       "2           3"
      ]
     },
     "execution_count": 5,
     "metadata": {},
     "output_type": "execute_result"
    }
   ],
   "source": [
    "df.query('age == 11 & bonus == 22')[['student_id']]"
   ]
  },
  {
   "cell_type": "markdown",
   "id": "a94ffb75",
   "metadata": {
    "papermill": {
     "duration": 0.005058,
     "end_time": "2023-12-31T17:57:32.467603",
     "exception": false,
     "start_time": "2023-12-31T17:57:32.462545",
     "status": "completed"
    },
    "tags": []
   },
   "source": [
    "## Sample 2"
   ]
  },
  {
   "cell_type": "code",
   "execution_count": 6,
   "id": "b0785832",
   "metadata": {
    "execution": {
     "iopub.execute_input": "2023-12-31T17:57:32.480041Z",
     "iopub.status.busy": "2023-12-31T17:57:32.479282Z",
     "iopub.status.idle": "2023-12-31T17:57:32.484795Z",
     "shell.execute_reply": "2023-12-31T17:57:32.484028Z"
    },
    "papermill": {
     "duration": 0.014064,
     "end_time": "2023-12-31T17:57:32.486850",
     "exception": false,
     "start_time": "2023-12-31T17:57:32.472786",
     "status": "completed"
    },
    "tags": []
   },
   "outputs": [],
   "source": [
    "customers = { 'a_id': [1 ,2, 3, 2, 1, 6], 'name': ['aa', 'bb', 'cc' , 'dd', 'ee', 'ff'], 'v_id': [3, 1, 4, 3, 5, 6]}\n",
    "orders = { 'id': [1, 2], 'customerId': [3, 1]}"
   ]
  },
  {
   "cell_type": "code",
   "execution_count": 7,
   "id": "826dc4ae",
   "metadata": {
    "execution": {
     "iopub.execute_input": "2023-12-31T17:57:32.499042Z",
     "iopub.status.busy": "2023-12-31T17:57:32.498390Z",
     "iopub.status.idle": "2023-12-31T17:57:32.505182Z",
     "shell.execute_reply": "2023-12-31T17:57:32.504366Z"
    },
    "papermill": {
     "duration": 0.015182,
     "end_time": "2023-12-31T17:57:32.507251",
     "exception": false,
     "start_time": "2023-12-31T17:57:32.492069",
     "status": "completed"
    },
    "tags": []
   },
   "outputs": [],
   "source": [
    "customers = pd.DataFrame(customers)\n",
    "orders = pd.DataFrame(orders)"
   ]
  },
  {
   "cell_type": "code",
   "execution_count": 8,
   "id": "5c360605",
   "metadata": {
    "execution": {
     "iopub.execute_input": "2023-12-31T17:57:32.518994Z",
     "iopub.status.busy": "2023-12-31T17:57:32.518655Z",
     "iopub.status.idle": "2023-12-31T17:57:32.527865Z",
     "shell.execute_reply": "2023-12-31T17:57:32.526925Z"
    },
    "papermill": {
     "duration": 0.017584,
     "end_time": "2023-12-31T17:57:32.530038",
     "exception": false,
     "start_time": "2023-12-31T17:57:32.512454",
     "status": "completed"
    },
    "tags": []
   },
   "outputs": [
    {
     "data": {
      "text/html": [
       "<div>\n",
       "<style scoped>\n",
       "    .dataframe tbody tr th:only-of-type {\n",
       "        vertical-align: middle;\n",
       "    }\n",
       "\n",
       "    .dataframe tbody tr th {\n",
       "        vertical-align: top;\n",
       "    }\n",
       "\n",
       "    .dataframe thead th {\n",
       "        text-align: right;\n",
       "    }\n",
       "</style>\n",
       "<table border=\"1\" class=\"dataframe\">\n",
       "  <thead>\n",
       "    <tr style=\"text-align: right;\">\n",
       "      <th></th>\n",
       "      <th>a_id</th>\n",
       "      <th>name</th>\n",
       "      <th>v_id</th>\n",
       "    </tr>\n",
       "  </thead>\n",
       "  <tbody>\n",
       "    <tr>\n",
       "      <th>0</th>\n",
       "      <td>1</td>\n",
       "      <td>aa</td>\n",
       "      <td>3</td>\n",
       "    </tr>\n",
       "    <tr>\n",
       "      <th>1</th>\n",
       "      <td>2</td>\n",
       "      <td>bb</td>\n",
       "      <td>1</td>\n",
       "    </tr>\n",
       "    <tr>\n",
       "      <th>2</th>\n",
       "      <td>3</td>\n",
       "      <td>cc</td>\n",
       "      <td>4</td>\n",
       "    </tr>\n",
       "    <tr>\n",
       "      <th>3</th>\n",
       "      <td>2</td>\n",
       "      <td>dd</td>\n",
       "      <td>3</td>\n",
       "    </tr>\n",
       "    <tr>\n",
       "      <th>4</th>\n",
       "      <td>1</td>\n",
       "      <td>ee</td>\n",
       "      <td>5</td>\n",
       "    </tr>\n",
       "    <tr>\n",
       "      <th>5</th>\n",
       "      <td>6</td>\n",
       "      <td>ff</td>\n",
       "      <td>6</td>\n",
       "    </tr>\n",
       "  </tbody>\n",
       "</table>\n",
       "</div>"
      ],
      "text/plain": [
       "   a_id name  v_id\n",
       "0     1   aa     3\n",
       "1     2   bb     1\n",
       "2     3   cc     4\n",
       "3     2   dd     3\n",
       "4     1   ee     5\n",
       "5     6   ff     6"
      ]
     },
     "execution_count": 8,
     "metadata": {},
     "output_type": "execute_result"
    }
   ],
   "source": [
    "customers"
   ]
  },
  {
   "cell_type": "code",
   "execution_count": 9,
   "id": "1cb9b2eb",
   "metadata": {
    "execution": {
     "iopub.execute_input": "2023-12-31T17:57:32.542765Z",
     "iopub.status.busy": "2023-12-31T17:57:32.542180Z",
     "iopub.status.idle": "2023-12-31T17:57:32.547598Z",
     "shell.execute_reply": "2023-12-31T17:57:32.546554Z"
    },
    "papermill": {
     "duration": 0.013964,
     "end_time": "2023-12-31T17:57:32.549722",
     "exception": false,
     "start_time": "2023-12-31T17:57:32.535758",
     "status": "completed"
    },
    "tags": []
   },
   "outputs": [],
   "source": [
    "df = pd.DataFrame()"
   ]
  },
  {
   "cell_type": "code",
   "execution_count": 10,
   "id": "88ec8691",
   "metadata": {
    "execution": {
     "iopub.execute_input": "2023-12-31T17:57:32.562283Z",
     "iopub.status.busy": "2023-12-31T17:57:32.561945Z",
     "iopub.status.idle": "2023-12-31T17:57:32.573361Z",
     "shell.execute_reply": "2023-12-31T17:57:32.572248Z"
    },
    "papermill": {
     "duration": 0.020279,
     "end_time": "2023-12-31T17:57:32.575478",
     "exception": false,
     "start_time": "2023-12-31T17:57:32.555199",
     "status": "completed"
    },
    "tags": []
   },
   "outputs": [],
   "source": [
    "df['id'] = customers.loc[customers['a_id'].eq(customers.v_id)][['a_id']]\n",
    "df = df.sort_values('id')\n",
    "df = df.drop_duplicates()"
   ]
  },
  {
   "cell_type": "code",
   "execution_count": 11,
   "id": "779611ce",
   "metadata": {
    "execution": {
     "iopub.execute_input": "2023-12-31T17:57:32.588597Z",
     "iopub.status.busy": "2023-12-31T17:57:32.587771Z",
     "iopub.status.idle": "2023-12-31T17:57:32.596267Z",
     "shell.execute_reply": "2023-12-31T17:57:32.595226Z"
    },
    "papermill": {
     "duration": 0.017307,
     "end_time": "2023-12-31T17:57:32.598429",
     "exception": false,
     "start_time": "2023-12-31T17:57:32.581122",
     "status": "completed"
    },
    "tags": []
   },
   "outputs": [
    {
     "data": {
      "text/html": [
       "<div>\n",
       "<style scoped>\n",
       "    .dataframe tbody tr th:only-of-type {\n",
       "        vertical-align: middle;\n",
       "    }\n",
       "\n",
       "    .dataframe tbody tr th {\n",
       "        vertical-align: top;\n",
       "    }\n",
       "\n",
       "    .dataframe thead th {\n",
       "        text-align: right;\n",
       "    }\n",
       "</style>\n",
       "<table border=\"1\" class=\"dataframe\">\n",
       "  <thead>\n",
       "    <tr style=\"text-align: right;\">\n",
       "      <th></th>\n",
       "      <th>id</th>\n",
       "    </tr>\n",
       "  </thead>\n",
       "  <tbody>\n",
       "    <tr>\n",
       "      <th>5</th>\n",
       "      <td>6</td>\n",
       "    </tr>\n",
       "  </tbody>\n",
       "</table>\n",
       "</div>"
      ],
      "text/plain": [
       "   id\n",
       "5   6"
      ]
     },
     "execution_count": 11,
     "metadata": {},
     "output_type": "execute_result"
    }
   ],
   "source": [
    "df"
   ]
  },
  {
   "cell_type": "code",
   "execution_count": 12,
   "id": "de3bcab0",
   "metadata": {
    "execution": {
     "iopub.execute_input": "2023-12-31T17:57:32.611427Z",
     "iopub.status.busy": "2023-12-31T17:57:32.610853Z",
     "iopub.status.idle": "2023-12-31T17:57:32.621375Z",
     "shell.execute_reply": "2023-12-31T17:57:32.620657Z"
    },
    "papermill": {
     "duration": 0.019644,
     "end_time": "2023-12-31T17:57:32.623617",
     "exception": false,
     "start_time": "2023-12-31T17:57:32.603973",
     "status": "completed"
    },
    "tags": []
   },
   "outputs": [
    {
     "name": "stdout",
     "output_type": "stream",
     "text": [
      "0     True\n",
      "1     True\n",
      "2     True\n",
      "3    False\n",
      "4     True\n",
      "dtype: bool\n",
      "0     True\n",
      "1    False\n",
      "2     True\n",
      "3    False\n",
      "4     True\n",
      "5    False\n",
      "6    False\n",
      "7    False\n",
      "8    False\n",
      "dtype: bool\n"
     ]
    }
   ],
   "source": [
    "a = pd.Series([1,1,1,2,3,4,43,2,21])\n",
    "b = pd.Series([1,4,1,5,3])\n",
    "\n",
    "print(b.isin(a))\n",
    "print(b.eq(a))"
   ]
  },
  {
   "cell_type": "markdown",
   "id": "e1ad70f5",
   "metadata": {
    "papermill": {
     "duration": 0.005932,
     "end_time": "2023-12-31T17:57:32.635455",
     "exception": false,
     "start_time": "2023-12-31T17:57:32.629523",
     "status": "completed"
    },
    "tags": []
   },
   "source": [
    "# sample 3"
   ]
  },
  {
   "cell_type": "code",
   "execution_count": 13,
   "id": "02d33788",
   "metadata": {
    "execution": {
     "iopub.execute_input": "2023-12-31T17:57:32.648391Z",
     "iopub.status.busy": "2023-12-31T17:57:32.647991Z",
     "iopub.status.idle": "2023-12-31T17:57:32.654792Z",
     "shell.execute_reply": "2023-12-31T17:57:32.653757Z"
    },
    "papermill": {
     "duration": 0.015645,
     "end_time": "2023-12-31T17:57:32.656856",
     "exception": false,
     "start_time": "2023-12-31T17:57:32.641211",
     "status": "completed"
    },
    "tags": []
   },
   "outputs": [],
   "source": [
    "import pandas as pd\n",
    "\n",
    "data = {'tweet_id': [1, 2],\n",
    "        'content': ['Vote for Biden', 'Let us make America great again!']}\n",
    "\n",
    "table = pd.DataFrame(data, columns=['tweet_id', 'content'])"
   ]
  },
  {
   "cell_type": "code",
   "execution_count": 14,
   "id": "d5023b12",
   "metadata": {
    "execution": {
     "iopub.execute_input": "2023-12-31T17:57:32.670455Z",
     "iopub.status.busy": "2023-12-31T17:57:32.669829Z",
     "iopub.status.idle": "2023-12-31T17:57:32.677597Z",
     "shell.execute_reply": "2023-12-31T17:57:32.676778Z"
    },
    "papermill": {
     "duration": 0.016956,
     "end_time": "2023-12-31T17:57:32.679639",
     "exception": false,
     "start_time": "2023-12-31T17:57:32.662683",
     "status": "completed"
    },
    "tags": []
   },
   "outputs": [
    {
     "data": {
      "text/html": [
       "<div>\n",
       "<style scoped>\n",
       "    .dataframe tbody tr th:only-of-type {\n",
       "        vertical-align: middle;\n",
       "    }\n",
       "\n",
       "    .dataframe tbody tr th {\n",
       "        vertical-align: top;\n",
       "    }\n",
       "\n",
       "    .dataframe thead th {\n",
       "        text-align: right;\n",
       "    }\n",
       "</style>\n",
       "<table border=\"1\" class=\"dataframe\">\n",
       "  <thead>\n",
       "    <tr style=\"text-align: right;\">\n",
       "      <th></th>\n",
       "      <th>tweet_id</th>\n",
       "      <th>content</th>\n",
       "    </tr>\n",
       "  </thead>\n",
       "  <tbody>\n",
       "    <tr>\n",
       "      <th>0</th>\n",
       "      <td>1</td>\n",
       "      <td>Vote for Biden</td>\n",
       "    </tr>\n",
       "    <tr>\n",
       "      <th>1</th>\n",
       "      <td>2</td>\n",
       "      <td>Let us make America great again!</td>\n",
       "    </tr>\n",
       "  </tbody>\n",
       "</table>\n",
       "</div>"
      ],
      "text/plain": [
       "   tweet_id                           content\n",
       "0         1                    Vote for Biden\n",
       "1         2  Let us make America great again!"
      ]
     },
     "execution_count": 14,
     "metadata": {},
     "output_type": "execute_result"
    }
   ],
   "source": [
    "table"
   ]
  },
  {
   "cell_type": "code",
   "execution_count": 15,
   "id": "3af063f5",
   "metadata": {
    "execution": {
     "iopub.execute_input": "2023-12-31T17:57:32.692951Z",
     "iopub.status.busy": "2023-12-31T17:57:32.692576Z",
     "iopub.status.idle": "2023-12-31T17:57:32.703076Z",
     "shell.execute_reply": "2023-12-31T17:57:32.701855Z"
    },
    "papermill": {
     "duration": 0.019577,
     "end_time": "2023-12-31T17:57:32.704991",
     "exception": false,
     "start_time": "2023-12-31T17:57:32.685414",
     "status": "completed"
    },
    "tags": []
   },
   "outputs": [
    {
     "data": {
      "text/html": [
       "<div>\n",
       "<style scoped>\n",
       "    .dataframe tbody tr th:only-of-type {\n",
       "        vertical-align: middle;\n",
       "    }\n",
       "\n",
       "    .dataframe tbody tr th {\n",
       "        vertical-align: top;\n",
       "    }\n",
       "\n",
       "    .dataframe thead th {\n",
       "        text-align: right;\n",
       "    }\n",
       "</style>\n",
       "<table border=\"1\" class=\"dataframe\">\n",
       "  <thead>\n",
       "    <tr style=\"text-align: right;\">\n",
       "      <th></th>\n",
       "      <th>tweet_id</th>\n",
       "    </tr>\n",
       "  </thead>\n",
       "  <tbody>\n",
       "    <tr>\n",
       "      <th>1</th>\n",
       "      <td>2</td>\n",
       "    </tr>\n",
       "  </tbody>\n",
       "</table>\n",
       "</div>"
      ],
      "text/plain": [
       "   tweet_id\n",
       "1         2"
      ]
     },
     "execution_count": 15,
     "metadata": {},
     "output_type": "execute_result"
    }
   ],
   "source": [
    "table[table['content'].str.len() > 15][['tweet_id']]"
   ]
  },
  {
   "cell_type": "code",
   "execution_count": null,
   "id": "d640e40d",
   "metadata": {
    "papermill": {
     "duration": 0.005722,
     "end_time": "2023-12-31T17:57:32.716652",
     "exception": false,
     "start_time": "2023-12-31T17:57:32.710930",
     "status": "completed"
    },
    "tags": []
   },
   "outputs": [],
   "source": []
  }
 ],
 "metadata": {
  "kaggle": {
   "accelerator": "none",
   "dataSources": [],
   "dockerImageVersionId": 30626,
   "isGpuEnabled": false,
   "isInternetEnabled": true,
   "language": "python",
   "sourceType": "notebook"
  },
  "kernelspec": {
   "display_name": "Python 3",
   "language": "python",
   "name": "python3"
  },
  "language_info": {
   "codemirror_mode": {
    "name": "ipython",
    "version": 3
   },
   "file_extension": ".py",
   "mimetype": "text/x-python",
   "name": "python",
   "nbconvert_exporter": "python",
   "pygments_lexer": "ipython3",
   "version": "3.10.12"
  },
  "papermill": {
   "default_parameters": {},
   "duration": 4.192387,
   "end_time": "2023-12-31T17:57:33.142565",
   "environment_variables": {},
   "exception": null,
   "input_path": "__notebook__.ipynb",
   "output_path": "__notebook__.ipynb",
   "parameters": {},
   "start_time": "2023-12-31T17:57:28.950178",
   "version": "2.4.0"
  }
 },
 "nbformat": 4,
 "nbformat_minor": 5
}
